{
 "cells": [
  {
   "cell_type": "code",
   "execution_count": 1,
   "id": "f41023b5",
   "metadata": {
    "pycharm": {
     "is_executing": true
    }
   },
   "outputs": [],
   "source": [
    "import numpy as np\n",
    "import matplotlib.pyplot as plt\n",
    "import torch\n",
    "from types import SimpleNamespace\n",
    "import sys\n",
    "sys.path.append('..')\n",
    "from field_of_junctions import FieldOfJunctions"
   ]
  },
  {
   "cell_type": "code",
   "execution_count": 6,
   "id": "e0b79c73",
   "metadata": {
    "pycharm": {
     "is_executing": true
    }
   },
   "outputs": [
    {
     "data": {
      "image/png": "[encoded data removed]",
      "text/plain": [
       "<Figure size 720x720 with 2 Axes>"
      ]
     },
     "metadata": {
      "needs_background": "light"
     },
     "output_type": "display_data"
    }
   ],
   "source": [
    "# Red square on black background\n",
    "\n",
    "clean_img = np.zeros((48, 48, 3), dtype=np.float32)\n",
    "L,H,_ = clean_img.shape\n",
    "\n",
    "#make a square (Length height corner)\n",
    "\n",
    "sL,sH = (10,10)\n",
    "sCx,sCy = (10,10)\n",
    "square = np.ones((sL,sH))\n",
    "clean_img[sCx:sCx+sL, sCy:sCy+sL, 0] = clean_img[sCx:sCx+sL, sCy:sCy+sL, 0] + square\n",
    "\n",
    "\n",
    "#make a triangle (length height corner)\n",
    "tL,tH = (10,10)\n",
    "tCx,tCy = (16,14)\n",
    "# tCx,tCy = (26,24)\n",
    "triangle = np.tril(np.ones((tL,tH)))\n",
    "clean_img[tCx:tCx+tL, tCy:tCy+tL, 0] = np.maximum(0,clean_img[tCx:tCx+tL, tCy:tCy+tL, 0] - triangle)\n",
    "clean_img[tCx:tCx+tL, tCy:tCy+tL, 1] = clean_img[tCx:tCx+tL, tCy:tCy+tL, 1] + triangle\n",
    "\n",
    "# Add noise\n",
    "img = clean_img + np.random.randn(*clean_img.shape)*0\n",
    "mn, mx = img.min(), img.max()\n",
    "\n",
    "# Adjust contrast (equally to both images)\n",
    "img = (img - mn) / (mx - mn)\n",
    "clean_img = (clean_img - mn) / (mx - mn)\n",
    "\n",
    "plt.figure(figsize=[10, 10])\n",
    "plt.subplot(121)\n",
    "plt.imshow(clean_img)\n",
    "plt.title('Clean input image')\n",
    "plt.axis('off');\n",
    "plt.subplot(122)\n",
    "plt.imshow(img)\n",
    "plt.title('Noisy input image')\n",
    "plt.axis('off');\n",
    "\n",
    "opts = SimpleNamespace()\n",
    "\n",
    "opts.R                        = 21\n",
    "opts.stride                   = 1\n",
    "opts.eta                      = 0.01\n",
    "opts.delta                    = 0.05\n",
    "opts.lr_angles                = 0.003\n",
    "opts.lr_x0y0                  = 0.03\n",
    "opts.lambda_boundary_final    = 0.5\n",
    "opts.lambda_color_final       = 0.1\n",
    "opts.nvals                    = 31\n",
    "opts.num_initialization_iters = 30\n",
    "opts.num_refinement_iters     = 1000\n",
    "opts.greedy_step_every_iters  = 30\n",
    "opts.parallel_mode            = True\n",
    "opts.ang_per_vertex           = 2\n",
    "foj = FieldOfJunctions(img, opts)\n"
   ]
  },
  {
   "cell_type": "code",
   "execution_count": null,
   "id": "e133a078",
   "metadata": {
    "pycharm": {
     "is_executing": true
    }
   },
   "outputs": [
    {
     "name": "stdout",
     "output_type": "stream",
     "text": [
      "Beginning initialization...\n",
      "Initialization iteration 0/30\n",
      "Initialization iteration 1/30\n",
      "Initialization iteration 2/30\n",
      "Initialization iteration 3/30\n",
      "Initialization iteration 4/30\n",
      "Initialization iteration 5/30\n",
      "Initialization iteration 6/30\n",
      "Initialization iteration 7/30\n",
      "Initialization iteration 8/30\n",
      "Initialization iteration 9/30\n",
      "Initialization iteration 10/30\n",
      "Initialization iteration 11/30\n",
      "Initialization iteration 12/30\n",
      "Initialization iteration 13/30\n",
      "Initialization iteration 14/30\n",
      "Initialization iteration 15/30\n",
      "Initialization iteration 16/30\n",
      "Initialization iteration 17/30\n",
      "Initialization iteration 18/30\n",
      "Initialization iteration 19/30\n",
      "Initialization iteration 20/30\n",
      "Initialization iteration 21/30\n",
      "Initialization iteration 22/30\n",
      "Initialization iteration 23/30\n",
      "Initialization iteration 24/30\n",
      "Initialization iteration 25/30\n",
      "Initialization iteration 26/30\n",
      "Initialization iteration 27/30\n",
      "Initialization iteration 28/30\n",
      "Initialization iteration 29/30\n",
      "Initialization done. Beginning refinement...\n",
      "Refinement iteration 40/1000\n",
      "Refinement iteration 80/1000\n",
      "Refinement iteration 120/1000\n",
      "Refinement iteration 160/1000\n",
      "Refinement iteration 200/1000\n",
      "Refinement iteration 240/1000\n",
      "Refinement iteration 280/1000\n",
      "Refinement iteration 320/1000\n",
      "Refinement iteration 360/1000\n",
      "Refinement iteration 400/1000\n",
      "Refinement iteration 440/1000\n",
      "Refinement iteration 480/1000\n",
      "Refinement iteration 520/1000\n",
      "Refinement iteration 560/1000\n",
      "Refinement iteration 600/1000\n"
     ]
    }
   ],
   "source": [
    "import imageio\n",
    "\n",
    "def foj_optimize_visualize_optimization():\n",
    "    with imageio.get_writer('ColorTriSqOverlap2Ang.mp4', fps=60, quality=9) as writer:\n",
    "        for i in range(foj.num_iters):\n",
    "            if i == 0:\n",
    "                print(\"Beginning initialization...\")\n",
    "            if i == opts.num_initialization_iters:\n",
    "                print(\"Initialization done. Beginning refinement...\")\n",
    "            if i < opts.num_initialization_iters:\n",
    "                if i % 1 == 0:\n",
    "                    print(f\"Initialization iteration {i}/{opts.num_initialization_iters}\")\n",
    "            else:\n",
    "                if i % 40 == 0:\n",
    "                    print(f\"Refinement iteration {i}/{opts.num_refinement_iters}\")\n",
    "            foj.step(i)\n",
    "            \n",
    "            # Compute smoothed image and boundaries\n",
    "            params = torch.cat([foj.angles, foj.x0y0], dim=1)\n",
    "            dists, _, patches = foj.get_dists_and_patches(params)\n",
    "            local_boundaries = foj.dists2boundaries(dists)\n",
    "            global_boundaries = foj.local2global(local_boundaries)[0, 0, :, :].detach().cpu().numpy()[:, :, np.newaxis].repeat(3,2)\n",
    "            smoothed_img = foj.local2global(patches)[0, :, :, :].permute(1, 2, 0).detach().cpu().numpy()\n",
    "            output = np.concatenate([img, smoothed_img, global_boundaries], axis=1)\n",
    "            \n",
    "            writer.append_data(np.uint8(255.0 * output))\n",
    "\n",
    "\n",
    "# Create and optimize field of junctions\n",
    "foj = FieldOfJunctions(img, opts)\n",
    "%time foj_optimize_visualize_optimization()\n"
   ]
  },
  {
   "cell_type": "code",
   "execution_count": null,
   "id": "6a04e1e9",
   "metadata": {
    "pycharm": {
     "is_executing": true
    }
   },
   "outputs": [],
   "source": []
  },
  {
   "cell_type": "code",
   "execution_count": null,
   "id": "a7dbad76",
   "metadata": {
    "pycharm": {
     "is_executing": true
    }
   },
   "outputs": [],
   "source": [
    "from utils import patchstack\n",
    "foj = FieldOfJunctions(img, opts)\n",
    "\n",
    "patch_vis = patchstack(foj.img_patches)[0, :, :, :].detach().permute(1, 2, 0).cpu().numpy()\n",
    "plt.figure(figsize=[18, 18])\n",
    "plt.imshow(patch_vis)\n",
    "plt.title('Input patches')\n",
    "plt.axis('off');"
   ]
  },
  {
   "cell_type": "code",
   "execution_count": null,
   "id": "72540906",
   "metadata": {
    "pycharm": {
     "is_executing": true
    }
   },
   "outputs": [],
   "source": []
  }
 ],
 "metadata": {
  "kernelspec": {
   "display_name": "Python 3 (ipykernel)",
   "language": "python",
   "name": "python3"
  },
  "language_info": {
   "codemirror_mode": {
    "name": "ipython",
    "version": 3
   },
   "file_extension": ".py",
   "mimetype": "text/x-python",
   "name": "python",
   "nbconvert_exporter": "python",
   "pygments_lexer": "ipython3",
   "version": "3.9.5"
  }
 },
 "nbformat": 4,
 "nbformat_minor": 5
}
