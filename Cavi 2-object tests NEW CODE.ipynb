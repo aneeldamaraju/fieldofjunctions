{
 "cells": [
  {
   "cell_type": "code",
   "execution_count": 12,
   "id": "2fe9f3f7",
   "metadata": {},
   "outputs": [],
   "source": [
    "# from patch_CAVI import *\n",
    "import numpy as np\n",
    "import matplotlib.pyplot as plt\n",
    "import torch\n",
    "from types import SimpleNamespace\n",
    "import sys\n",
    "sys.path.append('..')\n",
    "from field_of_junctions import FieldOfJunctions\n",
    "import matplotlib\n",
    "import cv2\n",
    "# from patch_CAVI_unary import *\n",
    "import ipywidgets as widgets\n",
    "from ipywidgets import interact, interact_manual\n",
    "import torch.nn.functional as F"
   ]
  },
  {
   "cell_type": "markdown",
   "id": "97ed4c21",
   "metadata": {},
   "source": [
    "## Helper functions and MRF permutation resolver"
   ]
  },
  {
   "cell_type": "code",
   "execution_count": 4,
   "id": "205a4a50",
   "metadata": {},
   "outputs": [],
   "source": [
    "def reconstruct_img(out,H,W,stride,PSZ):\n",
    "    rec = np.zeros([H,W,int(out.shape[-2]*out.shape[-1])])\n",
    "    num_overlaps = np.zeros([H,W])\n",
    "    itr = 0\n",
    "    for i in range(out.shape[-2]):\n",
    "        for j in range(out.shape[-1]):\n",
    "            rec[i*stride:i*stride + PSZ,j*stride:j*stride + PSZ,itr] = out[...,i,j].detach().cpu().numpy()\n",
    "            num_overlaps[i*stride:i*stride + PSZ,j*stride:j*stride + PSZ] += 1\n",
    "            itr = itr+1\n",
    "    return np.divide(np.sum(rec,axis = -1),num_overlaps)\n",
    "\n",
    "\n",
    "#Code from DOR's CAVI implementation (changes in all caps)\n",
    "\n",
    "def get_permutations(region_patches):\n",
    "    \"\"\"\n",
    "    region_patches is [1, 1, 3, 1, RF, RF, H_patches, W_patches\n",
    "    \"\"\"\n",
    "    return region_patches[0, 0, perm_list.permute(1, 0), 0, :, :, :, :]  # [3, 6, RF, RF, H_patches, W_patches]\n",
    "\n",
    "def local_resolve_permutations_mrf(permutations, stride, neighborhood=4, unary = None, unary_func = None, max_iters=None, func=None, func2=None, seed=None):\n",
    "    \"\"\"\n",
    "    #region_patches has shape [1, 1, 3, 1, RF, RF, H_patches, W_patches]\n",
    "    permutations has shape [3, 6, RF, RF, H_patches, W_patches]\n",
    "    \"\"\"\n",
    "\n",
    "    assert neighborhood in [4, 8], \"neighborhood must be 4 or 8\"\n",
    "\n",
    "    H_patches = permutations.shape[-2]\n",
    "    W_patches = permutations.shape[-1]\n",
    "\n",
    "    RF = permutations.shape[-3]\n",
    "    assert permutations.shape[-4] == RF, \"RF must be square\"\n",
    "\n",
    "    if func is None:\n",
    "        func = lambda x: 10.0 * torch.exp(-100.0 * x)\n",
    "\n",
    "    if func2 is None:\n",
    "        func2 = lambda x: 10.0 * torch.exp(-100.0 * x)\n",
    "\n",
    "    if max_iters is None:\n",
    "        max_iters = 2 * max([W_patches, H_patches])\n",
    "\n",
    "    # Create a 6x6xHx(W-1) array of log pairwise potentials for horizontal edges\n",
    "    # and a 6x6x(H-1)xW array for vertical ones.\n",
    "\n",
    "    # horizontal_logpsi[k, l, i, j] is the log psi function between the (i, j) and (i, j+1) patches evaluated at\n",
    "    # the kth and lth permutation respectively.\n",
    "    horizontal_logpsi = func((permutations[:, :, :, stride:, :, :-1].unsqueeze(2) -\n",
    "                              permutations[:, :, :, :-stride, :, 1:].unsqueeze(1)).abs().sum(0).mean(2).mean(2))\n",
    "\n",
    "    # vertical_logpsi[k, l, i, j] is the log psi function between the (i, j) and (i+1, j) patches evaluated at\n",
    "    # the kth and lth permutation respectively.\n",
    "    vertical_logpsi = func((permutations[:, :, stride:, :, :-1, :].unsqueeze(2) -\n",
    "                            permutations[:, :, :-stride, :, 1:, :].unsqueeze(1)).abs().sum(0).mean(2).mean(2))\n",
    "\n",
    "    # Add padding to avoid having to deal with image boundaries\n",
    "    horizontal_logpsi = torch.nn.functional.pad(horizontal_logpsi, pad=(1, 1, 1, 1))\n",
    "    vertical_logpsi = torch.nn.functional.pad(vertical_logpsi, pad=(1, 1, 1, 1))\n",
    "\n",
    "    if neighborhood == 8:\n",
    "        # angle45_logpsi[k, l, i, j] is the log psi function between the (i, j) and (i+1, j+1) patches evaluated at\n",
    "        # the kth and lth permutations respectively.\n",
    "        angle45_logpsi = func2((permutations[:, :, stride:, stride:, :-1, :-1].unsqueeze(2) -\n",
    "                                permutations[:, :, :-stride, :-stride, 1:, 1:].unsqueeze(1)).abs().sum(0).mean(2).mean(\n",
    "            2))\n",
    "\n",
    "        # angle135_logpsi[k, l, i, j] is the log psi function between the (i, j+1) and (i+1, j) patches evaluated at\n",
    "        # the kth and lth permutations respectively. [Note: This is a shifted version of the match between (i, j) and (i+1, j-1).]\n",
    "        angle135_logpsi = func2((permutations[:, :, stride:, :-stride, :-1, 1:].unsqueeze(2) -\n",
    "                                 permutations[:, :, :-stride, stride:, 1:, :-1].unsqueeze(1)).abs().sum(0).mean(2).mean(\n",
    "            2))\n",
    "\n",
    "        # Add padding to avoid having to deal with image boundaries\n",
    "        angle45_logpsi = torch.nn.functional.pad(angle45_logpsi, pad=(1, 1, 1, 1))\n",
    "        angle135_logpsi = torch.nn.functional.pad(angle135_logpsi, pad=(1, 1, 1, 1))\n",
    "\n",
    "    # Set all distributions to uniform except seed which is set to [1, 0, 0, 0, 0, 0].\n",
    "    lmbdas = torch.ones((6, H_patches + 2, W_patches + 2), dtype=torch.float32).to(permutations.device) / 6.0\n",
    "\n",
    "    # Unless specified, set seed to the non-constant patch closest to center\n",
    "    if seed is None:\n",
    "        # Find patches with at least 2 colors (i.e. no uniform region)\n",
    "        good_patches = permutations[:, 0, :, :, :, :].max(dim=-3)[0].max(dim=-3)[0].sum(0) > 1.5\n",
    "\n",
    "        # Find closest such patch to the center\n",
    "        good_patch_inds = good_patches.nonzero()\n",
    "        if len(good_patch_inds.shape) < 2:\n",
    "            seed = (H_patches // 2, W_patches // 2)\n",
    "        else:\n",
    "            gpiy = good_patch_inds[:, 0] - (H_patches - 1) / 2.0\n",
    "            gpix = good_patch_inds[:, 1] - (W_patches - 1) / 2.0\n",
    "            ind = torch.argmin(gpix ** 2 + gpiy ** 2)\n",
    "\n",
    "            seed = good_patch_inds[ind, :]\n",
    "\n",
    "#     lmbdas[0, seed[0] + 1, seed[1] + 1] = 1.0\n",
    "#     lmbdas[1:, seed[0] + 1, seed[1] + 1] = 0.0\n",
    "    for t in range(max_iters):\n",
    "        #ADDED UNARY TERM UPDATES\n",
    "        if unary is not None:\n",
    "            t1 = lmbdas[:, 1:-1, 1:-1] == torch.max(lmbdas[:, 1:-1, 1:-1],0)[0].unsqueeze(0).repeat(6,1,1)\n",
    "            t2 = unary == torch.max(unary,0)[0].unsqueeze(0).repeat(6,1,1)\n",
    "            #Logical intersect tells if argmax of q_j and the potential at j are equal\n",
    "            #Second term exculdes suprious equalities (when many of the q_j are the same (happens a lot at init))\n",
    "            logical_intersect = torch.max(t1*t2,0)[0] *(t1.sum(dim=0)>1)\n",
    "#             lmbdas[:, 1:-1, 1:-1] += unary * ((max_iters-t)/max_iters) #Product term to reduce strength of prior over time\n",
    "            lmbdas[:, 1:-1, 1:-1] += unary * unary_func(max_iters,t) * ~logical_intersect\n",
    "            lmbdas /= lmbdas.sum(dim=0, keepdim=True)\n",
    "        # Left neighbor:   sum over permutations of the (i, j-1)th patch, i.e. dimension 0\n",
    "        s = (lmbdas.unsqueeze(1)[:, :, 1:-1, :-2] * horizontal_logpsi[:, :, 1:-1, :-1]).sum(dim=0)\n",
    "        # Right neighbor:  sum over permutations of the (i, j+1)th patch, i.e. dimension 1\n",
    "        s += (lmbdas.unsqueeze(0)[:, :, 1:-1, 2:] * horizontal_logpsi[:, :, 1:-1, 1:]).sum(dim=1)\n",
    "        # Top neighbor:    sum over permutations of the (i-1, j)th patch, i.e. dimension 0\n",
    "        s += (lmbdas.unsqueeze(1)[:, :, :-2, 1:-1] * vertical_logpsi[:, :, :-1, 1:-1]).sum(dim=0)\n",
    "        # Bottom neighbor: sum over permutations of the (i+1, j)th patch, i.e. dimension 1\n",
    "        s += (lmbdas.unsqueeze(0)[:, :, 2:, 1:-1] * vertical_logpsi[:, :, 1:, 1:-1]).sum(dim=1)\n",
    "\n",
    "        if neighborhood == 8:\n",
    "            # TL neighbor: sum over permutations of the (i-1, j-1)th patch, i.e. dimension 0\n",
    "            s += (lmbdas.unsqueeze(1)[:, :, :-2, :-2] * angle45_logpsi[:, :, :-1, :-1]).sum(dim=0)\n",
    "            # BR neighbor: sum over permutations of the (i+1, j+1)th patch, i.e. dimension 1\n",
    "            s += (lmbdas.unsqueeze(0)[:, :, 2:, 2:] * angle45_logpsi[:, :, 1:, 1:]).sum(dim=1)\n",
    "            # TR neighbor: sum over permutations of the (i-1, j+1)th patch, i.e. dimension 0\n",
    "            s += (lmbdas.unsqueeze(1)[:, :, :-2, 2:] * angle135_logpsi[:, :, :-1, 1:]).sum(dim=0)\n",
    "            # BL neighbor: sum over permutations of the (i+1, j-1)th patch, i.e. dimension 1\n",
    "            s += (lmbdas.unsqueeze(0)[:, :, 2:, :-2] * angle135_logpsi[:, :, 1:, :-1]).sum(dim=1)\n",
    "\n",
    "        # Update parameters according to CAVI update\n",
    "        lmbdas[:, 1:-1, 1:-1] = torch.exp(s)\n",
    "\n",
    "\n",
    "        # Normalize and reset top-left distribution\n",
    "\n",
    "        lmbdas /= lmbdas.sum(dim=0, keepdim=True)\n",
    "\n",
    "\n",
    "#         lmbdas[0, seed[0] + 1, seed[1] + 1] = 1.0\n",
    "#         lmbdas[1:, seed[0] + 1, seed[1] + 1] = 0.0\n",
    "\n",
    "    lmbdas = lmbdas[:, 1:-1, 1:-1]\n",
    "\n",
    "    indices = lmbdas.argmax(0)  # shape [H_patches, W_patches]\n",
    "\n",
    "    return indices\n",
    "\n",
    "perm_list = torch.tensor([[0, 1, 2],\n",
    "                          [0, 2, 1],\n",
    "                          [1, 2, 0],\n",
    "                          [1, 0, 2],\n",
    "                          [2, 0, 1],\n",
    "                          [2, 1, 0]]).long()"
   ]
  },
  {
   "cell_type": "markdown",
   "id": "db8badd8",
   "metadata": {},
   "source": [
    "## Creating Image "
   ]
  },
  {
   "cell_type": "code",
   "execution_count": 5,
   "id": "9d04f8ac",
   "metadata": {},
   "outputs": [
    {
     "name": "stderr",
     "output_type": "stream",
     "text": [
      "C:\\Users\\Aneel\\AppData\\Local\\Temp/ipykernel_30548/3478486641.py:73: DeprecationWarning: `np.bool` is a deprecated alias for the builtin `bool`. To silence this warning, use `bool` by itself. Doing this will not modify any behavior and is safe. If you specifically wanted the numpy scalar type, use `np.bool_` here.\n",
      "Deprecated in NumPy 1.20; for more details and guidance: https://numpy.org/devdocs/release/1.20.0-notes.html#deprecations\n",
      "  junctions = np.ones((H, W), dtype=np.bool)\n"
     ]
    },
    {
     "data": {
      "image/png": "[encoded data removed]",
      "text/plain": [
       "<Figure size 432x288 with 1 Axes>"
      ]
     },
     "metadata": {
      "needs_background": "light"
     },
     "output_type": "display_data"
    }
   ],
   "source": [
    "\n",
    "import numpy as np\n",
    "import cv2\n",
    "\n",
    "\n",
    "def perlin(x,y,seed=0):\n",
    "    # permutation table\n",
    "    #np.random.seed(seed)\n",
    "    p = np.arange(256,dtype=int)\n",
    "    np.random.shuffle(p)\n",
    "    p = np.stack([p,p]).flatten()\n",
    "    # coordinates of the top-left\n",
    "    xi = x.astype(int)\n",
    "    yi = y.astype(int)\n",
    "    # internal coordinates\n",
    "    xf = x - xi\n",
    "    yf = y - yi\n",
    "    # fade factors\n",
    "    u = fade(xf)\n",
    "    v = fade(yf)\n",
    "    # noise components\n",
    "    n00 = gradient(p[p[xi]+yi],xf,yf)\n",
    "    n01 = gradient(p[p[xi]+yi+1],xf,yf-1)\n",
    "    n11 = gradient(p[p[xi+1]+yi+1],xf-1,yf-1)\n",
    "    n10 = gradient(p[p[xi+1]+yi],xf-1,yf)\n",
    "    # combine noises\n",
    "    x1 = lerp(n00,n10,u)\n",
    "    x2 = lerp(n01,n11,u) # FIX1: I was using n10 instead of n01\n",
    "    return lerp(x1,x2,v) # FIX2: I also had to reverse x1 and x2 here\n",
    "\n",
    "def lerp(a,b,x):\n",
    "    \"linear interpolation\"\n",
    "    return a + x * (b-a)\n",
    "\n",
    "def fade(t):\n",
    "    \"6t^5 - 15t^4 + 10t^3\"\n",
    "    return 6 * t**5 - 15 * t**4 + 10 * t**3\n",
    "\n",
    "def gradient(h,x,y):\n",
    "    \"grad converts h to the right gradient vector and return the dot product with (x,y)\"\n",
    "    vectors = np.array([[0,1],[0,-1],[1,0],[-1,0]])\n",
    "    g = vectors[h%4]\n",
    "    return g[:,:,0] * x + g[:,:,1] * y\n",
    "\n",
    "\n",
    "def get_curvature(rad):\n",
    "\n",
    "    rad_t_plus_1  = np.concatenate([rad[1:], rad[:1]], axis=0)\n",
    "    rad_t_minus_1 = np.concatenate([rad[-1:], rad[:-1]], axis=0)\n",
    "\n",
    "    drad  = 0.5 * (rad_t_plus_1 - rad_t_minus_1) / (angle[1] - angle[0])\n",
    "    d2rad = (rad_t_plus_1 - 2 * rad + rad_t_minus_1) / (angle[1] - angle[0]) ** 2\n",
    "\n",
    "    curvature = np.abs(rad ** 2 + 2 * drad ** 2 - rad * d2rad) / np.sqrt((rad ** 2 + drad ** 2) ** 3)\n",
    "\n",
    "    return curvature\n",
    "\n",
    "\n",
    "\n",
    "H = W = 201\n",
    "maxrad = H / 2.5\n",
    "minrad = H / 4.0\n",
    "\n",
    "RF = 21\n",
    "\n",
    "num_imgs = 1\n",
    "\n",
    "np.random.seed(2020)\n",
    "for i in range(num_imgs):\n",
    "\n",
    "    img_np = np.zeros((H, W), dtype=np.uint8)\n",
    "    edges = np.zeros((H, W), dtype=np.uint8)\n",
    "    curvature_img = np.zeros((H, W), dtype=np.float32)\n",
    "    junctions = np.ones((H, W), dtype=np.bool)\n",
    "\n",
    "    axis_angle = np.random.rand() * 2 * np.pi\n",
    "\n",
    "    colors = [255, 128] if np.random.rand() > 0.5 else [128, 255]\n",
    "    for blob_id, clr in enumerate(colors):\n",
    "        angle = np.linspace(0.0, 2*np.pi, 10001)[:-1]\n",
    "\n",
    "        xp = 2.5 + 0.6 * np.cos(angle[np.newaxis, :])\n",
    "        yp = 2.5 + 0.6 * np.sin(angle[np.newaxis, :])\n",
    "\n",
    "        p = perlin(xp, yp)\n",
    "\n",
    "        rad = minrad + (maxrad - minrad) * (0.5 + p)[0, :]\n",
    "\n",
    "        \n",
    "        xlist = rad * np.cos(angle) + 0.5 * H + 0.1 * H * np.cos(axis_angle + np.pi * (blob_id == 1))\n",
    "        ylist = rad * np.sin(angle) + 0.5 * W + 0.1 * W * np.sin(axis_angle + np.pi * (blob_id == 1))\n",
    "\n",
    "        pts = np.array([[int(x), int(y)] for (x, y) in zip(xlist, ylist)])\n",
    "        pts = pts.reshape((1, -1, 2))\n",
    "\n",
    "#         np.save(f'datasets/blobs_small/rad_{blob_id}_{i:03}.npy', rad)\n",
    "#         np.save(f'datasets/blobs_small/pts_{blob_id}_{i:03}.npy', pts)\n",
    "        \n",
    "        \n",
    "        curr_edges = np.zeros((H, W), dtype=np.uint8)\n",
    "        cv2.fillPoly(img_np, pts, color=clr, lineType=cv2.LINE_AA)\n",
    "        cv2.fillPoly(edges, pts, color=(0,))\n",
    "        cv2.fillPoly(curr_edges, pts, color=(0,))\n",
    "        cv2.fillPoly(curvature_img, pts, color=(0,))\n",
    "        \n",
    "        curvature = get_curvature(rad)\n",
    "        for t in range(1000):\n",
    "            clr = curvature[10*t:10*t+10].mean() / 0.02  # Not sure why 0.02, but that's the range\n",
    "            cv2.polylines(curvature_img, pts[:, 10*t:10*t+10, :], False, (clr,), 1)\n",
    "            cv2.polylines(curr_edges,    pts[:, 10*t:10*t+10, :], False, (255,), 1)\n",
    "            cv2.polylines(edges,         pts[:, 10*t:10*t+10, :], False, (255,), 1)\n",
    "            \n",
    "        \n",
    "        junctions &= (curr_edges > 128)\n",
    "\n",
    "\n",
    "# img_np = cv2.resize(img_np, (55, 55), interpolation=cv2.INTER_AREA)\n",
    "# edges = cv2.resize(edges, (55, 55), interpolation=cv2.INTER_AREA)\n",
    "# junctions = cv2.resize(np.uint8(junctions) * 255, (55, 55), interpolation=cv2.INTER_AREA)\n",
    "# curvature_img = cv2.resize(curvature_img, (55, 55), interpolation=cv2.INTER_AREA)\n",
    "\n",
    "plt.imshow(img_np,cmap='gray')\n",
    "img = img_np.reshape(img_np.shape[0],img_np.shape[1],1)\n",
    "img = np.asarray(img/255.0,dtype=np.float32)\n",
    "plt.title('Original Image')\n",
    "plt.axis('off');\n"
   ]
  },
  {
   "cell_type": "markdown",
   "id": "19ea4f6c",
   "metadata": {},
   "source": [
    "## FoJ on Image"
   ]
  },
  {
   "cell_type": "code",
   "execution_count": 22,
   "id": "31c7c05a",
   "metadata": {},
   "outputs": [
    {
     "name": "stdout",
     "output_type": "stream",
     "text": [
      "Beginning initialization...\n",
      "Initialization iteration 0/30\n",
      "Initialization iteration 5/30\n",
      "Initialization iteration 10/30\n",
      "Initialization iteration 15/30\n",
      "Initialization iteration 20/30\n",
      "Initialization iteration 25/30\n",
      "Initialization done. Beginning refinement...\n",
      "Refinement iteration 100/1000\n",
      "Refinement iteration 200/1000\n",
      "Refinement iteration 300/1000\n",
      "Refinement iteration 400/1000\n",
      "Refinement iteration 500/1000\n",
      "Refinement iteration 600/1000\n",
      "Refinement iteration 700/1000\n",
      "Refinement iteration 800/1000\n",
      "Refinement iteration 900/1000\n",
      "Refinement iteration 1000/1000\n",
      "Wall time: 1min 12s\n"
     ]
    },
    {
     "data": {
      "text/plain": [
       "(-0.5, 200.5, 200.5, -0.5)"
      ]
     },
     "execution_count": 22,
     "metadata": {},
     "output_type": "execute_result"
    },
    {
     "data": {
      "image/png": "[encoded data removed]",
      "text/plain": [
       "<Figure size 864x864 with 3 Axes>"
      ]
     },
     "metadata": {
      "needs_background": "light"
     },
     "output_type": "display_data"
    }
   ],
   "source": [
    "# Create opts object\n",
    "opts = SimpleNamespace()\n",
    "\n",
    "opts.R                        = 21\n",
    "opts.stride                   = 3\n",
    "opts.eta                      = 0.01\n",
    "opts.delta                    = 0.05\n",
    "opts.lr_angles                = 0.003\n",
    "opts.lr_x0y0                  = 0.03\n",
    "opts.lambda_boundary_final    = 0.5\n",
    "opts.lambda_color_final       = 0.1\n",
    "opts.nvals                    = 31\n",
    "opts.num_initialization_iters = 30\n",
    "opts.num_refinement_iters     = 1000\n",
    "opts.greedy_step_every_iters  = 50\n",
    "opts.parallel_mode            = True\n",
    "opts.ang_per_vertex           = 3\n",
    "\n",
    "\n",
    "# Define function for optimization (foj.optimize() may be used instead)\n",
    "def foj_optimize_verbose():\n",
    "    for i in range(foj.num_iters):\n",
    "        if i == 0:\n",
    "            print(\"Beginning initialization...\")\n",
    "        if i == opts.num_initialization_iters:\n",
    "            print(\"Initialization done. Beginning refinement...\")\n",
    "        if i < opts.num_initialization_iters:\n",
    "            if i % 5 == 0:\n",
    "                print(f\"Initialization iteration {i}/{opts.num_initialization_iters}\")\n",
    "        else:\n",
    "            if i % 100 == 0:\n",
    "                print(f\"Refinement iteration {i}/{opts.num_refinement_iters}\")\n",
    "        foj.step(i)\n",
    "\n",
    "# Create and optimize field of junctions\n",
    "foj = FieldOfJunctions(img, opts)\n",
    "%time foj_optimize_verbose()       # Run optimization with some printing\n",
    "\n",
    "# Compute smoothed image and boundary map\n",
    "params = torch.cat([foj.angles, foj.x0y0], dim=1)\n",
    "dists, _, patches = foj.get_dists_and_patches(params)\n",
    "local_boundaries = foj.dists2boundaries(dists)\n",
    "global_boundaries = foj.local2global(local_boundaries)[0, 0, :, :].detach().cpu().numpy()\n",
    "smoothed_img = foj.local2global(patches)[0, :, :, :].permute(1, 2, 0).detach().cpu().numpy()\n",
    "\n",
    "plt.figure(figsize=[12, 12])\n",
    "plt.subplot(131)\n",
    "plt.imshow(img)\n",
    "plt.title('Input')\n",
    "plt.axis('off')\n",
    "plt.subplot(132)\n",
    "plt.imshow(global_boundaries, cmap='gray')\n",
    "plt.title('Global boundaries')\n",
    "plt.axis('off')\n",
    "plt.subplot(133)\n",
    "plt.imshow(smoothed_img)\n",
    "plt.title('Smoothed image')\n",
    "plt.axis('off')"
   ]
  },
  {
   "cell_type": "markdown",
   "id": "e0f677f7",
   "metadata": {},
   "source": [
    "## Sorting patches by wedge angle subtended "
   ]
  },
  {
   "cell_type": "code",
   "execution_count": 23,
   "id": "e7163cee",
   "metadata": {},
   "outputs": [],
   "source": [
    "#Get wedges|\n",
    "wedges = foj.dists2indicators(dists).detach().cpu().numpy()\n",
    "\n",
    "#Get numbers of patches\n",
    "H_patches = wedges.shape[4]\n",
    "W_patches = wedges.shape[5]\n",
    "N=1\n",
    "\n",
    "#Get base angles from horizon\n",
    "angles = torch.remainder(params[:, :3, :, :], 2 * np.pi)\n",
    "angles = torch.sort(angles, dim=1)[0].detach().cpu().numpy()\n",
    "\n",
    "#Slice for horizon angles\n",
    "t_angle1 = angles[0, 0, :, :]   # shape [N, 1, 1, H', W']\n",
    "t_angle2 = angles[0, 1, :, :]   # shape [N, 1, 1, H', W']\n",
    "t_angle3 = angles[0, 2, :, :]  # shape [N, 1, 1, H', W']\n",
    "\n",
    "#ANGLES ARE SWAPPED BECUASE WEDGES ORDERED COUNTERCLOCKWISE\n",
    "angle1 = np.remainder(t_angle1-t_angle3,2*np.pi)\n",
    "angle3 = np.remainder(t_angle2-t_angle1,2*np.pi) \n",
    "angle2 = np.remainder(t_angle3-t_angle2,2*np.pi)\n",
    "anglemat = np.stack((angle1,angle2,angle3),axis = 0)\n",
    "\n",
    "#Sort and argsort angles\n",
    "sorted_angles = -1*torch.tensor(np.sort(-anglemat,axis=0))\n",
    "ang_sort_idx = torch.tensor(np.argsort(-anglemat,axis=0))\n",
    "# angles_ascending = np.take_along_axis(useful_angles, ang_sort_idx, axis=0)\n",
    "ang_sort_idx = ang_sort_idx.unsqueeze(-1).swapdims(0,3).squeeze(0)\n",
    "ang_sort_idx = ang_sort_idx.view(1,1,1,1,H_patches,W_patches,3)\n",
    "ang_sort_idx = ang_sort_idx.repeat(1,1,opts.R,opts.R,1,1,1)\n",
    "\n",
    "#Reshape wedges, and patches\n",
    "wedges = foj.dists2indicators(dists).detach().cpu()\n",
    "perm_wedges = wedges.unsqueeze(-1).swapdims(1,6)\n",
    "ang_sorted_wedges_resh = torch.gather(perm_wedges, -1, ang_sort_idx)\n",
    "ang_sorted_wedges = ang_sorted_wedges_resh.swapdims(1,6).squeeze(-1)\n",
    "\n",
    "ang_region_patches = ang_sorted_wedges.unsqueeze(1).unsqueeze(3)\n",
    "ang_permutations = get_permutations(ang_region_patches)"
   ]
  },
  {
   "cell_type": "markdown",
   "id": "5e6230cf",
   "metadata": {},
   "source": [
    "## Creating unary potentials (using logical patch rules)"
   ]
  },
  {
   "cell_type": "code",
   "execution_count": 24,
   "id": "2fb3b61b",
   "metadata": {},
   "outputs": [],
   "source": [
    "#Angle thresholds \n",
    "epsilon_0 = .3\n",
    "epsilon_1 = .1\n",
    "epsilon_2 = .1\n",
    "\n",
    "#Threshold for if a vertex is outside the box\n",
    "out_of_bounds = torch.max(torch.abs(foj.x0y0),axis=1)[0].squeeze(0) \n",
    "#Booleans representing the conditionals\n",
    "w0_pi = torch.abs(sorted_angles[0,...]-np.pi)<epsilon_0\n",
    "i_w0_pi = torch.abs(sorted_angles[0,...]-np.pi)>epsilon_1\n",
    "w1_pi = torch.abs(sorted_angles[1,...]-np.pi)<epsilon_1\n",
    "w2_zero = sorted_angles[2,...]<epsilon_2\n",
    "\n",
    "unary_pots = np.zeros((6,*w2_zero.cpu().numpy().shape)) \n",
    "unary_pots[:,w0_pi.cpu().numpy()& ~w2_zero.cpu().numpy()] = np.array([[1,1,0,0,0,0]]).T\n",
    "unary_pots[:,w2_zero.cpu().numpy()&~w1_pi.cpu().numpy()] = np.array([[0,0,1,1,0,1]]).T\n",
    "unary_pots[:,(~w0_pi.cpu().numpy()& ~w2_zero.cpu().numpy())|(out_of_bounds>1).cpu().numpy()] = np.array([[0,0,0,0,0,0]]).T"
   ]
  },
  {
   "cell_type": "markdown",
   "id": "ebd551b4",
   "metadata": {},
   "source": [
    "## Running Permutation Resolver + Plotting results"
   ]
  },
  {
   "cell_type": "code",
   "execution_count": 39,
   "id": "412deff9",
   "metadata": {},
   "outputs": [
    {
     "name": "stdout",
     "output_type": "stream",
     "text": [
      "0\n",
      "50\n",
      "100\n",
      "150\n",
      "200\n",
      "250\n",
      "300\n",
      "350\n",
      "400\n",
      "450\n",
      "500\n",
      "550\n",
      "600\n",
      "650\n",
      "700\n",
      "750\n",
      "800\n",
      "850\n",
      "900\n",
      "950\n",
      "1000\n",
      "1050\n",
      "1100\n",
      "1150\n",
      "1200\n",
      "1250\n",
      "1300\n",
      "1350\n",
      "1400\n",
      "1450\n",
      "1500\n",
      "1550\n",
      "1600\n",
      "1650\n",
      "1700\n",
      "1750\n",
      "1800\n",
      "1850\n",
      "1900\n",
      "1950\n"
     ]
    },
    {
     "data": {
      "image/png": "[encoded data removed]",
      "text/plain": [
       "<Figure size 720x2160 with 3 Axes>"
      ]
     },
     "metadata": {
      "needs_background": "light"
     },
     "output_type": "display_data"
    }
   ],
   "source": [
    "def unary_func(max_iters,t):\n",
    "    return np.sqrt(max_iters-t)/np.sqrt(max_iters)\n",
    "def func(x):\n",
    "    x = -x.abs()\n",
    "    mult = torch.exp(-30.0 * x.max(0, keepdim=True)[0].max(1, keepdim=True)[0] ** 2)\n",
    "    return mult* torch.exp(3.0 * x)\n",
    "\n",
    "ang_idxs_unary,ang_ind_list = expanded_resolve_permutations_mrf(ang_permutations, stride=opts.stride, Ns=3, PLOT=True, max_iters=2000,unary = torch.tensor(.000001*unary_pots), unary_func = unary_func, func=func, func2=func, seed=[50,0])\n",
    "ang_perm_tensor_unary = perm_list[ang_idxs_unary].view(1,1,1,1,H_patches,W_patches,3)\n",
    "ang_perm_tensor_unary = ang_perm_tensor_unary.repeat(1,1,opts.R,opts.R,1,1,1)\n",
    "\n",
    "ang_perm_wedges_unary = torch.gather(ang_sorted_wedges_resh, -1, ang_perm_tensor_unary)\n",
    "ang_perm_wedges_unary = ang_perm_wedges_unary.swapdims(1,6).squeeze(6)\n",
    "\n",
    "# H,W = [201,201]\n",
    "\n",
    "wedge_out_unary_1 = reconstruct_img(ang_perm_wedges_unary[0,0,...],H,W,opts.stride,opts.R)\n",
    "wedge_out_unary_2 = reconstruct_img(ang_perm_wedges_unary[0,1,...],H,W,opts.stride,opts.R)\n",
    "wedge_out_unary_3 = reconstruct_img(ang_perm_wedges_unary[0,2,...],H,W,opts.stride,opts.R)\n",
    "plt.figure(figsize=[10,30])\n",
    "plt.subplot(131)\n",
    "plt.imshow(wedge_out_unary_1,vmin=0,vmax=1)\n",
    "# plt.colorbar()\n",
    "plt.axis('off')\n",
    "plt.title('Layer 1')\n",
    "plt.subplot(132)\n",
    "plt.imshow(wedge_out_unary_2,vmin=0,vmax=1)\n",
    "# plt.colorbar()\n",
    "plt.axis('off')\n",
    "plt.title('Layer 2')\n",
    "plt.subplot(133)\n",
    "plt.imshow(wedge_out_unary_3,vmin=0,vmax=1)\n",
    "# plt.colorbar()\n",
    "plt.axis('off')\n",
    "plt.title('Layer 3')\n",
    "plt.suptitle('Pixelwise layer-certainty estimates with unary potentials')\n",
    "plt.subplots_adjust(top=1.73);"
   ]
  },
  {
   "cell_type": "code",
   "execution_count": 19,
   "id": "fec968b3",
   "metadata": {},
   "outputs": [
    {
     "data": {
      "text/plain": [
       "48"
      ]
     },
     "execution_count": 19,
     "metadata": {},
     "output_type": "execute_result"
    }
   ],
   "source": [
    "ang_perm_wedges_unary.shape\n",
    "H"
   ]
  },
  {
   "cell_type": "code",
   "execution_count": 34,
   "id": "4afe4f31",
   "metadata": {},
   "outputs": [
    {
     "data": {
      "image/png": "[encoded data removed]",
      "text/plain": [
       "<Figure size 720x2160 with 3 Axes>"
      ]
     },
     "metadata": {
      "needs_background": "light"
     },
     "output_type": "display_data"
    }
   ],
   "source": [
    "def unary_func(max_iters,t):\n",
    "    return np.sqrt(max_iters-t)/np.sqrt(max_iters)\n",
    "def func(x):\n",
    "    x = -x.abs()\n",
    "    mult = torch.exp(-30.0 * x.max(0, keepdim=True)[0].max(1, keepdim=True)[0] ** 2)\n",
    "    return mult* torch.exp(3.0 * x)\n",
    "\n",
    "ang_idxs_unary = local_resolve_permutations_mrf(ang_permutations, stride=3, neighborhood=8, max_iters=2000,unary = torch.tensor(.000001*unary_pots), unary_func = unary_func, func=func, func2=func, seed=[50,0])\n",
    "ang_perm_tensor_unary = perm_list[ang_idxs_unary].view(1,1,1,1,H_patches,W_patches,3)\n",
    "ang_perm_tensor_unary = ang_perm_tensor_unary.repeat(1,1,opts.R,opts.R,1,1,1)\n",
    "\n",
    "ang_perm_wedges_unary = torch.gather(ang_sorted_wedges_resh, -1, ang_perm_tensor_unary)\n",
    "ang_perm_wedges_unary = ang_perm_wedges_unary.swapdims(1,6).squeeze(6)\n",
    "\n",
    "wedge_out_unary_1 = reconstruct_img(ang_perm_wedges_unary[0,0,...],H,W,opts.stride,opts.R)\n",
    "wedge_out_unary_2 = reconstruct_img(ang_perm_wedges_unary[0,1,...],H,W,opts.stride,opts.R)\n",
    "wedge_out_unary_3 = reconstruct_img(ang_perm_wedges_unary[0,2,...],H,W,opts.stride,opts.R)\n",
    "plt.figure(figsize=[10,30])\n",
    "plt.subplot(131)\n",
    "plt.imshow(wedge_out_unary_1,vmin=0,vmax=1)\n",
    "# plt.colorbar()\n",
    "plt.axis('off')\n",
    "plt.title('Layer 1')\n",
    "plt.subplot(132)\n",
    "plt.imshow(wedge_out_unary_2,vmin=0,vmax=1)\n",
    "# plt.colorbar()\n",
    "plt.axis('off')\n",
    "plt.title('Layer 2')\n",
    "plt.subplot(133)\n",
    "plt.imshow(wedge_out_unary_3,vmin=0,vmax=1)\n",
    "# plt.colorbar()\n",
    "plt.axis('off')\n",
    "plt.title('Layer 3')\n",
    "plt.suptitle('Pixelwise layer-certainty estimates with unary potentials')\n",
    "plt.subplots_adjust(top=1.73);"
   ]
  },
  {
   "cell_type": "code",
   "execution_count": 85,
   "id": "material-clock",
   "metadata": {},
   "outputs": [],
   "source": [
    "P = ang_permutations\n",
    "st = 2\n",
    "hs = 3\n",
    "vs = 3\n",
    "\n",
    "Ns = 3\n",
    "I = 3\n",
    "J = 3\n",
    "\n",
    "# for idx in range(3):\n",
    "#     plt.subplot(1,3,idx+1)\n",
    "#     plt.imshow(P[idx,0,:,:,I,J])\n",
    "\n",
    "t1 = (P[:,:,:-hs*st,:-vs*st,:-hs,:-vs]-P[:,:,hs*st:,vs*st:,hs:,vs:]).sum(0).mean(1).mean(1);"
   ]
  },
  {
   "cell_type": "code",
   "execution_count": 86,
   "id": "operational-trash",
   "metadata": {},
   "outputs": [
    {
     "data": {
      "text/plain": [
       "torch.Size([6, 7, 7])"
      ]
     },
     "execution_count": 86,
     "metadata": {},
     "output_type": "execute_result"
    }
   ],
   "source": [
    "t1.shape\n"
   ]
  },
  {
   "cell_type": "code",
   "execution_count": 80,
   "id": "discrete-thompson",
   "metadata": {},
   "outputs": [],
   "source": [
    "import torch.nn.functional as F\n",
    "\n",
    "t2 = F.pad(t1,(0,vs,0,hs))"
   ]
  },
  {
   "cell_type": "code",
   "execution_count": 81,
   "id": "understood-creature",
   "metadata": {},
   "outputs": [
    {
     "data": {
      "text/plain": [
       "torch.Size([6, 10, 10])"
      ]
     },
     "execution_count": 81,
     "metadata": {},
     "output_type": "execute_result"
    }
   ],
   "source": [
    "t2.shape"
   ]
  },
  {
   "cell_type": "code",
   "execution_count": 59,
   "id": "adolescent-institute",
   "metadata": {},
   "outputs": [
    {
     "name": "stdout",
     "output_type": "stream",
     "text": [
      "0 tensor(-3)\n",
      "1 tensor(-2)\n",
      "2 tensor(-1)\n",
      "3 tensor(1)\n",
      "4 tensor(2)\n",
      "5 tensor(3)\n"
     ]
    }
   ],
   "source": [
    "for i, hs in enumerate(N_list):\n",
    "    print(i,hs)"
   ]
  },
  {
   "cell_type": "code",
   "execution_count": 178,
   "id": "entire-intermediate",
   "metadata": {},
   "outputs": [],
   "source": [
    "Ns = 1\n",
    "N_list = np.arange(-Ns,Ns+1)"
   ]
  },
  {
   "cell_type": "code",
   "execution_count": 223,
   "id": "illegal-optics",
   "metadata": {},
   "outputs": [],
   "source": [
    "N_list = np.arange(-Ns,Ns+1)\n",
    "stride=1\n",
    "# Set all distributions to uniform except seed which is set to [1, 0, 0, 0, 0, 0].\n",
    "lmbdas = torch.ones((6, H_patches, W_patches), dtype=torch.float32) / 6.0\n",
    "\n",
    "#Create log_psi_mat\n",
    "\n",
    "log_psi_mat = torch.zeros(6,6,H_patches,W_patches,(Ns*2+1)**2-1,(Ns*2+1)**2-1)\n",
    "for i, hs in enumerate(N_list):\n",
    "    for j, vs in enumerate(N_list):\n",
    "        if [i,j] is not [0,0]:\n",
    "            padarr = [0,0,0,0]\n",
    "            #This can be simplified somehow for sure \n",
    "            if hs>0:\n",
    "                Px = ang_permutations[:,:,hs*stride:,:,:-hs,:]\n",
    "                shift_Px = ang_permutations[:,:,:-hs*stride,:,hs:,:]\n",
    "                padarr[3] = hs\n",
    "            elif hs == 0:\n",
    "                Px = ang_permutations\n",
    "                shift_Px = ang_permutations\n",
    "                padarr[3] = hs\n",
    "            else:\n",
    "                Px = ang_permutations[:,:,:hs*stride,:,-hs:,:] \n",
    "                shift_Px = ang_permutations[:,:,-hs*stride:,:,:hs,:]\n",
    "                padarr[2] = -hs\n",
    "            if vs>0: \n",
    "                Py = Px[:,:,:,vs*stride:,:,:-vs]\n",
    "                shift_Py = shift_Px[:,:,:,:-vs*stride,:,vs:]\n",
    "                padarr[1] = vs\n",
    "            elif vs == 0: \n",
    "                Py = Px\n",
    "                shift_Py = shift_Px\n",
    "                padarr[1] = vs\n",
    "            else:\n",
    "                Py = Px[:,:,:,:vs*stride,:,-vs:] \n",
    "                shift_Py = shift_Px[:,:,:,-vs*stride:,:,:vs]\n",
    "                padarr[0] = -vs\n",
    "\n",
    "            t1 = func((shift_Py.unsqueeze(2)-Py.unsqueeze(1)).abs().sum(0).mean(2).mean(2));\n",
    "\n",
    "            log_psi_mat[...,i,j] = F.pad(t1,padarr)"
   ]
  },
  {
   "cell_type": "code",
   "execution_count": 216,
   "id": "checked-cartoon",
   "metadata": {},
   "outputs": [
    {
     "data": {
      "text/plain": [
       "torch.Size([3, 6, 20, 20, 9, 9])"
      ]
     },
     "execution_count": 216,
     "metadata": {},
     "output_type": "execute_result"
    }
   ],
   "source": [
    "Py.shape"
   ]
  },
  {
   "cell_type": "code",
   "execution_count": 182,
   "id": "introductory-holly",
   "metadata": {},
   "outputs": [
    {
     "data": {
      "text/plain": [
       "torch.Size([3, 6, 18, 21, 9, 0])"
      ]
     },
     "execution_count": 182,
     "metadata": {},
     "output_type": "execute_result"
    }
   ],
   "source": [
    "P.shape"
   ]
  },
  {
   "cell_type": "code",
   "execution_count": 99,
   "id": "dependent-anniversary",
   "metadata": {},
   "outputs": [
    {
     "data": {
      "text/plain": [
       "-3"
      ]
     },
     "execution_count": 99,
     "metadata": {},
     "output_type": "execute_result"
    }
   ],
   "source": [
    "t1.shape\n",
    "padarr\n",
    "hs"
   ]
  },
  {
   "cell_type": "code",
   "execution_count": 113,
   "id": "infrared-hepatitis",
   "metadata": {},
   "outputs": [
    {
     "data": {
      "text/plain": [
       "torch.Size([3, 6, 6, 12, 12, 7, 7])"
      ]
     },
     "execution_count": 113,
     "metadata": {},
     "output_type": "execute_result"
    }
   ],
   "source": [
    "func((shift_Py.unsqueeze(2)-Py.unsqueeze(1))).shape"
   ]
  },
  {
   "cell_type": "code",
   "execution_count": 102,
   "id": "welcome-zambia",
   "metadata": {},
   "outputs": [
    {
     "data": {
      "text/plain": [
       "torch.Size([6, 7, 7])"
      ]
     },
     "execution_count": 102,
     "metadata": {},
     "output_type": "execute_result"
    }
   ],
   "source": [
    "t1.shape"
   ]
  },
  {
   "cell_type": "code",
   "execution_count": 41,
   "id": "northern-ranch",
   "metadata": {},
   "outputs": [
    {
     "data": {
      "text/plain": [
       "torch.Size([6, 61, 61])"
      ]
     },
     "execution_count": 41,
     "metadata": {},
     "output_type": "execute_result"
    }
   ],
   "source": [
    "lmbdas.shape"
   ]
  },
  {
   "cell_type": "code",
   "execution_count": 9,
   "id": "hearing-mouse",
   "metadata": {},
   "outputs": [],
   "source": [
    "lmbdas = torch.ones((6, H_patches, W_patches), dtype=torch.float32) / 6.0\n",
    "\n",
    "def expand_lmbdas(lmbdas,Ns):\n",
    "    lmbdas_mat = torch.zeros((6,H_patches, W_patches,(Ns*2+1)**2-1,(Ns*2+1)**2-1)).to(lmbdas.device)\n",
    "    N_list = np.arange(-Ns,Ns+1)\n",
    "    for i, hs in enumerate(N_list):\n",
    "        for j, vs in enumerate(N_list):\n",
    "            if [i,j] is not [0,0]:\n",
    "                padarr = [0,0,0,0]\n",
    "                #This can be simplified somehow for sure \n",
    "                if hs>0:\n",
    "                    lmbdasx = lmbdas[:,hs:,:]\n",
    "                    padarr[3] = hs\n",
    "                elif hs == 0:\n",
    "                    lmbdasx = lmbdas\n",
    "                else:\n",
    "                    lmbdasx = lmbdas[:,:hs,:] \n",
    "                    padarr[2] = -hs\n",
    "                if vs>0: \n",
    "                    lmbdasy = lmbdasx[:,:,vs:]\n",
    "                    padarr[1] = vs\n",
    "                elif vs == 0:\n",
    "                    lmbdasy = lmbdasx\n",
    "                else:\n",
    "                    lmbdasy = lmbdasx[:,:,:vs] \n",
    "                    padarr[0] = -vs\n",
    "                lmbdas_mat[...,i,j] = F.pad(lmbdasy,padarr)\n",
    "    return lmbdas_mat"
   ]
  },
  {
   "cell_type": "code",
   "execution_count": 38,
   "id": "brown-slave",
   "metadata": {},
   "outputs": [],
   "source": [
    "def expanded_resolve_permutations_mrf(permutations, stride, Ns, PLOT=False, unary = None, unary_func = None, max_iters=None, func=None, func2=None, seed=None):\n",
    "    \"\"\"\n",
    "    #region_patches has shape [1, 1, 3, 1, RF, RF, H_patches, W_patches]\n",
    "    permutations has shape [3, 6, RF, RF, H_patches, W_patches]\n",
    "    \"\"\"\n",
    "\n",
    "    H_patches = permutations.shape[-2]\n",
    "    W_patches = permutations.shape[-1]\n",
    "\n",
    "    RF = permutations.shape[-3]\n",
    "    assert permutations.shape[-4] == RF, \"RF must be square\"\n",
    "\n",
    "    if func is None:\n",
    "        func = lambda x: 10.0 * torch.exp(-100.0 * x)\n",
    "\n",
    "    if func2 is None:\n",
    "        func2 = lambda x: 10.0 * torch.exp(-100.0 * x)\n",
    "\n",
    "    if max_iters is None:\n",
    "        max_iters = 2 * max([W_patches, H_patches])\n",
    "\n",
    "    N_list = np.arange(-Ns,Ns+1)\n",
    "\n",
    "    # Set all distributions to uniform except seed which is set to [1, 0, 0, 0, 0, 0].\n",
    "    lmbdas = torch.ones((6, H_patches, W_patches), dtype=torch.float32).to(permutations.device) / 6.0\n",
    "    \n",
    "    #Create log_psi_mat\n",
    "    \n",
    "    log_psi_mat = torch.zeros(6,6,H_patches,W_patches,(Ns*2+1)**2-1,(Ns*2+1)**2-1).to(permutations.device)\n",
    "    for i, hs in enumerate(N_list):\n",
    "        for j, vs in enumerate(N_list):\n",
    "            if [i,j] is not [0,0]:\n",
    "                padarr = [0,0,0,0]\n",
    "                #This can be simplified somehow for sure \n",
    "                if hs>0:\n",
    "                    Px = permutations[:,:,hs*stride:,:,:-hs,:]\n",
    "                    shift_Px = permutations[:,:,:-hs*stride,:,hs:,:]\n",
    "                    padarr[3] = hs\n",
    "                elif hs == 0:\n",
    "                    Px = permutations\n",
    "                    shift_Px = permutations\n",
    "                    padarr[3] = hs\n",
    "                else:\n",
    "                    Px = permutations[:,:,:hs*stride,:,-hs:,:] \n",
    "                    shift_Px = permutations[:,:,-hs*stride:,:,:hs,:]\n",
    "                    padarr[2] = -hs\n",
    "                if vs>0: \n",
    "                    Py = Px[:,:,:,vs*stride:,:,:-vs]\n",
    "                    shift_Py = shift_Px[:,:,:,:-vs*stride,:,vs:]\n",
    "                    padarr[1] = vs\n",
    "                elif vs == 0: \n",
    "                    Py = Px\n",
    "                    shift_Py = shift_Px\n",
    "                    padarr[1] = vs\n",
    "                else:\n",
    "                    Py = Px[:,:,:,:vs*stride,:,-vs:] \n",
    "                    shift_Py = shift_Px[:,:,:,-vs*stride:,:,:vs]\n",
    "                    padarr[0] = -vs\n",
    "\n",
    "                t1 = func((shift_Py.unsqueeze(2)-Py.unsqueeze(1)).abs().sum(0).mean(2).mean(2));\n",
    "\n",
    "                log_psi_mat[...,i,j] = F.pad(t1,padarr)\n",
    "            \n",
    "    # Unless specified, set seed to the non-constant patch closest to center\n",
    "#     lmbdas[0, seed[0] + 1, seed[1] + 1] = 1.0\n",
    "#     lmbdas[1:, seed[0] + 1, seed[1] + 1] = 0.0\n",
    "\n",
    "    ind_list = []\n",
    "    for t in range(max_iters):\n",
    "        if t%50 == 0:\n",
    "            print(t)\n",
    "        #ADDED UNARY TERM UPDATES\n",
    "        if unary is not None:\n",
    "            t1 = lmbdas == torch.max(lmbdas,0)[0].unsqueeze(0).repeat(6,1,1)\n",
    "            t2 = unary == torch.max(unary,0)[0].unsqueeze(0).repeat(6,1,1)\n",
    "            #Logical intersect tells if argmax of q_j and the potential at j are equal\n",
    "            #Second term exculdes suprious equalities (when many of the q_j are the same (happens a lot at init))\n",
    "            logical_intersect = torch.max(t1*t2,0)[0] *(t1.sum(dim=0)>1)\n",
    "#             lmbdas[:, 1:-1, 1:-1] += unary * ((max_iters-t)/max_iters) #Product term to reduce strength of prior over time\n",
    "            lmbdas += unary * unary_func(max_iters,t) * ~logical_intersect\n",
    "            lmbdas /= lmbdas.sum(dim=0, keepdim=True)\n",
    "        \n",
    "        lmbdas_mat = expand_lmbdas(lmbdas,Ns)\n",
    "#         print(lmbdas.shape,lmbdas_mat.shape,log_psi_mat.shape)\n",
    "        #Calculate s and exponentiate\n",
    "        s = (log_psi_mat*lmbdas_mat).sum(1).sum(3).sum(3)\n",
    "\n",
    "        # Update parameters according to CAVI update\n",
    "        lmbdas = torch.exp(s)\n",
    "\n",
    "\n",
    "        # Normalize and reset top-left distribution\n",
    "\n",
    "        lmbdas /= lmbdas.sum(dim=0, keepdim=True)\n",
    "\n",
    "\n",
    "#         lmbdas[0, seed[0] + 1, seed[1] + 1] = 1.0\n",
    "#         lmbdas[1:, seed[0] + 1, seed[1] + 1] = 0.0\n",
    "        if PLOT:\n",
    "            indices = lmbdas.argmax(0)  # shape [H_patches, W_patches]\n",
    "            ind_list.append(indices.detach()) \n",
    "\n",
    "    lmbdas = lmbdas\n",
    "    \n",
    "    \n",
    "    indices = lmbdas.argmax(0)  # shape [H_patches, W_patches]\n",
    "    if PLOT:\n",
    "        return indices,ind_list\n",
    "    return indices"
   ]
  },
  {
   "cell_type": "code",
   "execution_count": null,
   "id": "informational-toddler",
   "metadata": {},
   "outputs": [],
   "source": [
    "def local_resolve_permutations_mrf(permutations, stride, neighborhood=4, unary = None, unary_func = None, max_iters=None, func=None, func2=None, seed=None):\n",
    "    \"\"\"\n",
    "    #region_patches has shape [1, 1, 3, 1, RF, RF, H_patches, W_patches]\n",
    "    permutations has shape [3, 6, RF, RF, H_patches, W_patches]\n",
    "    \"\"\"\n",
    "\n",
    "    assert neighborhood in [4, 8], \"neighborhood must be 4 or 8\"\n",
    "\n",
    "    H_patches = permutations.shape[-2]\n",
    "    W_patches = permutations.shape[-1]\n",
    "\n",
    "    RF = permutations.shape[-3]\n",
    "    assert permutations.shape[-4] == RF, \"RF must be square\"\n",
    "\n",
    "    if func is None:\n",
    "        func = lambda x: 10.0 * torch.exp(-100.0 * x)\n",
    "\n",
    "    if func2 is None:\n",
    "        func2 = lambda x: 10.0 * torch.exp(-100.0 * x)\n",
    "\n",
    "    if max_iters is None:\n",
    "        max_iters = 2 * max([W_patches, H_patches])\n",
    "\n",
    "    # Create a 6x6xHx(W-1) array of log pairwise potentials for horizontal edges\n",
    "    # and a 6x6x(H-1)xW array for vertical ones.\n",
    "\n",
    "    # horizontal_logpsi[k, l, i, j] is the log psi function between the (i, j) and (i, j+1) patches evaluated at\n",
    "    # the kth and lth permutation respectively.\n",
    "    horizontal_logpsi = func((permutations[:, :, :, stride:, :, :-1].unsqueeze(2) -\n",
    "                              permutations[:, :, :, :-stride, :, 1:].unsqueeze(1)).abs().sum(0).mean(2).mean(2))\n",
    "\n",
    "    # vertical_logpsi[k, l, i, j] is the log psi function between the (i, j) and (i+1, j) patches evaluated at\n",
    "    # the kth and lth permutation respectively.\n",
    "    vertical_logpsi = func((permutations[:, :, stride:, :, :-1, :].unsqueeze(2) -\n",
    "                            permutations[:, :, :-stride, :, 1:, :].unsqueeze(1)).abs().sum(0).mean(2).mean(2))\n",
    "\n",
    "    # Add padding to avoid having to deal with image boundaries\n",
    "    horizontal_logpsi = torch.nn.functional.pad(horizontal_logpsi, pad=(1, 1, 1, 1))\n",
    "    vertical_logpsi = torch.nn.functional.pad(vertical_logpsi, pad=(1, 1, 1, 1))\n",
    "\n",
    "    if neighborhood == 8:\n",
    "        # angle45_logpsi[k, l, i, j] is the log psi function between the (i, j) and (i+1, j+1) patches evaluated at\n",
    "        # the kth and lth permutations respectively.\n",
    "        angle45_logpsi = func2((permutations[:, :, stride:, stride:, :-1, :-1].unsqueeze(2) -\n",
    "                                permutations[:, :, :-stride, :-stride, 1:, 1:].unsqueeze(1)).abs().sum(0).mean(2).mean(\n",
    "            2))\n",
    "\n",
    "        # angle135_logpsi[k, l, i, j] is the log psi function between the (i, j+1) and (i+1, j) patches evaluated at\n",
    "        # the kth and lth permutations respectively. [Note: This is a shifted version of the match between (i, j) and (i+1, j-1).]\n",
    "        angle135_logpsi = func2((permutations[:, :, stride:, :-stride, :-1, 1:].unsqueeze(2) -\n",
    "                                 permutations[:, :, :-stride, stride:, 1:, :-1].unsqueeze(1)).abs().sum(0).mean(2).mean(\n",
    "            2))\n",
    "\n",
    "        # Add padding to avoid having to deal with image boundaries\n",
    "        angle45_logpsi = torch.nn.functional.pad(angle45_logpsi, pad=(1, 1, 1, 1))\n",
    "        angle135_logpsi = torch.nn.functional.pad(angle135_logpsi, pad=(1, 1, 1, 1))\n",
    "\n",
    "    # Set all distributions to uniform except seed which is set to [1, 0, 0, 0, 0, 0].\n",
    "    lmbdas = torch.ones((6, H_patches + 2, W_patches + 2), dtype=torch.float32).to(permutations.device) / 6.0\n",
    "\n",
    "    # Unless specified, set seed to the non-constant patch closest to center\n",
    "    if seed is None:\n",
    "        # Find patches with at least 2 colors (i.e. no uniform region)\n",
    "        good_patches = permutations[:, 0, :, :, :, :].max(dim=-3)[0].max(dim=-3)[0].sum(0) > 1.5\n",
    "\n",
    "        # Find closest such patch to the center\n",
    "        good_patch_inds = good_patches.nonzero()\n",
    "        if len(good_patch_inds.shape) < 2:\n",
    "            seed = (H_patches // 2, W_patches // 2)\n",
    "        else:\n",
    "            gpiy = good_patch_inds[:, 0] - (H_patches - 1) / 2.0\n",
    "            gpix = good_patch_inds[:, 1] - (W_patches - 1) / 2.0\n",
    "            ind = torch.argmin(gpix ** 2 + gpiy ** 2)\n",
    "\n",
    "            seed = good_patch_inds[ind, :]\n",
    "\n",
    "#     lmbdas[0, seed[0] + 1, seed[1] + 1] = 1.0\n",
    "#     lmbdas[1:, seed[0] + 1, seed[1] + 1] = 0.0\n",
    "    for t in range(max_iters):\n",
    "        #ADDED UNARY TERM UPDATES\n",
    "        if unary is not None:\n",
    "            t1 = lmbdas[:, 1:-1, 1:-1] == torch.max(lmbdas[:, 1:-1, 1:-1],0)[0].unsqueeze(0).repeat(6,1,1)\n",
    "            t2 = unary == torch.max(unary,0)[0].unsqueeze(0).repeat(6,1,1)\n",
    "            #Logical intersect tells if argmax of q_j and the potential at j are equal\n",
    "            #Second term exculdes suprious equalities (when many of the q_j are the same (happens a lot at init))\n",
    "            logical_intersect = torch.max(t1*t2,0)[0] *(t1.sum(dim=0)>1)\n",
    "#             lmbdas[:, 1:-1, 1:-1] += unary * ((max_iters-t)/max_iters) #Product term to reduce strength of prior over time\n",
    "            lmbdas[:, 1:-1, 1:-1] += unary * unary_func(max_iters,t) * ~logical_intersect\n",
    "            lmbdas /= lmbdas.sum(dim=0, keepdim=True)\n",
    "        # Left neighbor:   sum over permutations of the (i, j-1)th patch, i.e. dimension 0\n",
    "        s = (lmbdas.unsqueeze(1)[:, :, 1:-1, :-2] * horizontal_logpsi[:, :, 1:-1, :-1]).sum(dim=0)\n",
    "        # Right neighbor:  sum over permutations of the (i, j+1)th patch, i.e. dimension 1\n",
    "        s += (lmbdas.unsqueeze(0)[:, :, 1:-1, 2:] * horizontal_logpsi[:, :, 1:-1, 1:]).sum(dim=1)\n",
    "        # Top neighbor:    sum over permutations of the (i-1, j)th patch, i.e. dimension 0\n",
    "        s += (lmbdas.unsqueeze(1)[:, :, :-2, 1:-1] * vertical_logpsi[:, :, :-1, 1:-1]).sum(dim=0)\n",
    "        # Bottom neighbor: sum over permutations of the (i+1, j)th patch, i.e. dimension 1\n",
    "        s += (lmbdas.unsqueeze(0)[:, :, 2:, 1:-1] * vertical_logpsi[:, :, 1:, 1:-1]).sum(dim=1)\n",
    "\n",
    "        if neighborhood == 8:\n",
    "            # TL neighbor: sum over permutations of the (i-1, j-1)th patch, i.e. dimension 0\n",
    "            s += (lmbdas.unsqueeze(1)[:, :, :-2, :-2] * angle45_logpsi[:, :, :-1, :-1]).sum(dim=0)\n",
    "            # BR neighbor: sum over permutations of the (i+1, j+1)th patch, i.e. dimension 1\n",
    "            s += (lmbdas.unsqueeze(0)[:, :, 2:, 2:] * angle45_logpsi[:, :, 1:, 1:]).sum(dim=1)\n",
    "            # TR neighbor: sum over permutations of the (i-1, j+1)th patch, i.e. dimension 0\n",
    "            s += (lmbdas.unsqueeze(1)[:, :, :-2, 2:] * angle135_logpsi[:, :, :-1, 1:]).sum(dim=0)\n",
    "            # BL neighbor: sum over permutations of the (i+1, j-1)th patch, i.e. dimension 1\n",
    "            s += (lmbdas.unsqueeze(0)[:, :, 2:, :-2] * angle135_logpsi[:, :, 1:, :-1]).sum(dim=1)\n",
    "\n",
    "        # Update parameters according to CAVI update\n",
    "        lmbdas[:, 1:-1, 1:-1] = torch.exp(s)\n",
    "\n",
    "\n",
    "        # Normalize and reset top-left distribution\n",
    "\n",
    "        lmbdas /= lmbdas.sum(dim=0, keepdim=True)\n",
    "\n",
    "\n",
    "#         lmbdas[0, seed[0] + 1, seed[1] + 1] = 1.0\n",
    "#         lmbdas[1:, seed[0] + 1, seed[1] + 1] = 0.0\n",
    "\n",
    "    lmbdas = lmbdas[:, 1:-1, 1:-1]\n",
    "\n",
    "    indices = lmbdas.argmax(0)  # shape [H_patches, W_patches]\n",
    "\n",
    "    return indices"
   ]
  },
  {
   "cell_type": "markdown",
   "id": "smoking-split",
   "metadata": {},
   "source": [
    "## This is the part where I look at trying various techniques for visualization and varying values of lambda (maybe adding noise to the system?)"
   ]
  },
  {
   "cell_type": "code",
   "execution_count": 250,
   "id": "complicated-boutique",
   "metadata": {},
   "outputs": [
    {
     "data": {
      "text/plain": [
       "0.01"
      ]
     },
     "execution_count": 250,
     "metadata": {},
     "output_type": "execute_result"
    }
   ],
   "source": [
    "t=499\n",
    "maxiters=500\n",
    "\n",
    "int(6*t/maxiters)\n",
    "\n",
    "schedule = {0:1e-2, 1:1e-3,2:1e-4,3:1e-5,4:1e-6}\n",
    "schedule[0]"
   ]
  },
  {
   "cell_type": "code",
   "execution_count": 239,
   "id": "tired-pepper",
   "metadata": {},
   "outputs": [
    {
     "name": "stdout",
     "output_type": "stream",
     "text": [
      "--- 0.531757116317749 seconds ---\n"
     ]
    }
   ],
   "source": [
    "import time\n",
    "start_time = time.time()\n",
    "import imageio\n",
    "with imageio.get_writer('Square_CAVI_outputs_slo.mp4', fps=5, quality=9) as writer:\n",
    "    for ang_idxs in ang_ind_list[:10]:\n",
    "        ang_perm_tensor_unary = perm_list[ang_idxs].view(1,1,1,1,H_patches,W_patches,3)\n",
    "        ang_perm_tensor_unary = ang_perm_tensor_unary.repeat(1,1,opts.R,opts.R,1,1,1)\n",
    "\n",
    "        ang_perm_wedges_unary = torch.gather(ang_sorted_wedges_resh, -1, ang_perm_tensor_unary)\n",
    "        ang_perm_wedges_unary = ang_perm_wedges_unary.swapdims(1,6).squeeze(6)\n",
    "\n",
    "        H,W = [48,48]\n",
    "        wedge_out_unary_1 = reconstruct_img(ang_perm_wedges_unary[0,0,...],H,W,opts.stride,opts.R)\n",
    "        wedge_out_unary_2 = reconstruct_img(ang_perm_wedges_unary[0,1,...],H,W,opts.stride,opts.R)\n",
    "        wedge_out_unary_3 = reconstruct_img(ang_perm_wedges_unary[0,2,...],H,W,opts.stride,opts.R)\n",
    "        output = np.concatenate([wedge_out_unary_1, wedge_out_unary_2, wedge_out_unary_3], axis=1)\n",
    "        writer.append_data(np.uint8(255.0 * output))\n",
    "        \n",
    "print(\"--- %s seconds ---\" % (time.time() - start_time))"
   ]
  }
 ],
 "metadata": {
  "kernelspec": {
   "display_name": "Python 3 (ipykernel)",
   "language": "python",
   "name": "python3"
  },
  "language_info": {
   "codemirror_mode": {
    "name": "ipython",
    "version": 3
   },
   "file_extension": ".py",
   "mimetype": "text/x-python",
   "name": "python",
   "nbconvert_exporter": "python",
   "pygments_lexer": "ipython3",
   "version": "3.9.5"
  }
 },
 "nbformat": 4,
 "nbformat_minor": 5
}