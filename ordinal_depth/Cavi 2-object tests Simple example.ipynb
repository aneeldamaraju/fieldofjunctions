{
 "cells": [
  {
   "cell_type": "code",
   "execution_count": 1,
   "id": "2fe9f3f7",
   "metadata": {},
   "outputs": [],
   "source": [
    "# from patch_CAVI import *\n",
    "import numpy as np\n",
    "import matplotlib.pyplot as plt\n",
    "import torch\n",
    "from types import SimpleNamespace\n",
    "import sys\n",
    "sys.path.append('..')\n",
    "from field_of_junctions import FieldOfJunctions\n",
    "import matplotlib\n",
    "import cv2\n",
    "# from patch_CAVI_unary import *\n",
    "import ipywidgets as widgets\n",
    "from ipywidgets import interact, interact_manual"
   ]
  },
  {
   "cell_type": "markdown",
   "id": "09f29bc4",
   "metadata": {},
   "source": [
    "## Helper functions and MRF permutation resolver"
   ]
  },
  {
   "cell_type": "code",
   "execution_count": 2,
   "id": "205a4a50",
   "metadata": {},
   "outputs": [],
   "source": [
    "def reconstruct_img(out,H,W,stride,PSZ):\n",
    "    rec = np.zeros([H,W,int(out.shape[-2]*out.shape[-1])])\n",
    "    num_overlaps = np.zeros([H,W])\n",
    "    itr = 0\n",
    "    for i in range(out.shape[-2]):\n",
    "        for j in range(out.shape[-1]):\n",
    "            rec[i*stride:i*stride + PSZ,j*stride:j*stride + PSZ,itr] = out[...,i,j].detach().cpu().numpy()\n",
    "            num_overlaps[i*stride:i*stride + PSZ,j*stride:j*stride + PSZ] += 1\n",
    "            itr = itr+1\n",
    "    return np.divide(np.sum(rec,axis = -1),num_overlaps)\n",
    "\n",
    "\n",
    "#Code from DOR's CAVI implementation (changes in all caps)\n",
    "\n",
    "def get_permutations(region_patches):\n",
    "    \"\"\"\n",
    "    region_patches is [1, 1, 3, 1, RF, RF, H_patches, W_patches\n",
    "    \"\"\"\n",
    "    return region_patches[0, 0, perm_list.permute(1, 0), 0, :, :, :, :]  # [3, 6, RF, RF, H_patches, W_patches]\n",
    "\n",
    "def local_resolve_permutations_mrf(permutations, stride, neighborhood=4, unary = None, unary_func = None, max_iters=None, func=None, func2=None, seed=None):\n",
    "    \"\"\"\n",
    "    #region_patches has shape [1, 1, 3, 1, RF, RF, H_patches, W_patches]\n",
    "    permutations has shape [3, 6, RF, RF, H_patches, W_patches]\n",
    "    \"\"\"\n",
    "\n",
    "    assert neighborhood in [4, 8], \"neighborhood must be 4 or 8\"\n",
    "\n",
    "    H_patches = permutations.shape[-2]\n",
    "    W_patches = permutations.shape[-1]\n",
    "\n",
    "    RF = permutations.shape[-3]\n",
    "    assert permutations.shape[-4] == RF, \"RF must be square\"\n",
    "\n",
    "    if func is None:\n",
    "        func = lambda x: 10.0 * torch.exp(-100.0 * x)\n",
    "\n",
    "    if func2 is None:\n",
    "        func2 = lambda x: 10.0 * torch.exp(-100.0 * x)\n",
    "\n",
    "    if max_iters is None:\n",
    "        max_iters = 2 * max([W_patches, H_patches])\n",
    "\n",
    "    # Create a 6x6xHx(W-1) array of log pairwise potentials for horizontal edges\n",
    "    # and a 6x6x(H-1)xW array for vertical ones.\n",
    "\n",
    "    # horizontal_logpsi[k, l, i, j] is the log psi function between the (i, j) and (i, j+1) patches evaluated at\n",
    "    # the kth and lth permutation respectively.\n",
    "    horizontal_logpsi = func((permutations[:, :, :, stride:, :, :-1].unsqueeze(2) -\n",
    "                              permutations[:, :, :, :-stride, :, 1:].unsqueeze(1)).abs().sum(0).mean(2).mean(2))\n",
    "\n",
    "    # vertical_logpsi[k, l, i, j] is the log psi function between the (i, j) and (i+1, j) patches evaluated at\n",
    "    # the kth and lth permutation respectively.\n",
    "    vertical_logpsi = func((permutations[:, :, stride:, :, :-1, :].unsqueeze(2) -\n",
    "                            permutations[:, :, :-stride, :, 1:, :].unsqueeze(1)).abs().sum(0).mean(2).mean(2))\n",
    "\n",
    "    # Add padding to avoid having to deal with image boundaries\n",
    "    horizontal_logpsi = torch.nn.functional.pad(horizontal_logpsi, pad=(1, 1, 1, 1))\n",
    "    vertical_logpsi = torch.nn.functional.pad(vertical_logpsi, pad=(1, 1, 1, 1))\n",
    "\n",
    "    if neighborhood == 8:\n",
    "        # angle45_logpsi[k, l, i, j] is the log psi function between the (i, j) and (i+1, j+1) patches evaluated at\n",
    "        # the kth and lth permutations respectively.\n",
    "        angle45_logpsi = func2((permutations[:, :, stride:, stride:, :-1, :-1].unsqueeze(2) -\n",
    "                                permutations[:, :, :-stride, :-stride, 1:, 1:].unsqueeze(1)).abs().sum(0).mean(2).mean(\n",
    "            2))\n",
    "\n",
    "        # angle135_logpsi[k, l, i, j] is the log psi function between the (i, j+1) and (i+1, j) patches evaluated at\n",
    "        # the kth and lth permutations respectively. [Note: This is a shifted version of the match between (i, j) and (i+1, j-1).]\n",
    "        angle135_logpsi = func2((permutations[:, :, stride:, :-stride, :-1, 1:].unsqueeze(2) -\n",
    "                                 permutations[:, :, :-stride, stride:, 1:, :-1].unsqueeze(1)).abs().sum(0).mean(2).mean(\n",
    "            2))\n",
    "\n",
    "        # Add padding to avoid having to deal with image boundaries\n",
    "        angle45_logpsi = torch.nn.functional.pad(angle45_logpsi, pad=(1, 1, 1, 1))\n",
    "        angle135_logpsi = torch.nn.functional.pad(angle135_logpsi, pad=(1, 1, 1, 1))\n",
    "\n",
    "    # Set all distributions to uniform except seed which is set to [1, 0, 0, 0, 0, 0].\n",
    "    lmbdas = torch.ones((6, H_patches + 2, W_patches + 2), dtype=torch.float32).to(permutations.device) / 6.0\n",
    "\n",
    "    # Unless specified, set seed to the non-constant patch closest to center\n",
    "    if seed is None:\n",
    "        # Find patches with at least 2 colors (i.e. no uniform region)\n",
    "        good_patches = permutations[:, 0, :, :, :, :].max(dim=-3)[0].max(dim=-3)[0].sum(0) > 1.5\n",
    "\n",
    "        # Find closest such patch to the center\n",
    "        good_patch_inds = good_patches.nonzero()\n",
    "        if len(good_patch_inds.shape) < 2:\n",
    "            seed = (H_patches // 2, W_patches // 2)\n",
    "        else:\n",
    "            gpiy = good_patch_inds[:, 0] - (H_patches - 1) / 2.0\n",
    "            gpix = good_patch_inds[:, 1] - (W_patches - 1) / 2.0\n",
    "            ind = torch.argmin(gpix ** 2 + gpiy ** 2)\n",
    "\n",
    "            seed = good_patch_inds[ind, :]\n",
    "\n",
    "#     lmbdas[0, seed[0] + 1, seed[1] + 1] = 1.0\n",
    "#     lmbdas[1:, seed[0] + 1, seed[1] + 1] = 0.0\n",
    "    for t in range(max_iters):\n",
    "        #ADDED UNARY TERM UPDATES\n",
    "        if unary is not None:\n",
    "            t1 = lmbdas[:, 1:-1, 1:-1] == torch.max(lmbdas[:, 1:-1, 1:-1],0)[0].unsqueeze(0).repeat(6,1,1)\n",
    "            t2 = unary == torch.max(unary,0)[0].unsqueeze(0).repeat(6,1,1)\n",
    "            #Logical intersect tells if argmax of q_j and the potential at j are equal\n",
    "            #Second term exculdes suprious equalities (when many of the q_j are the same (happens a lot at init))\n",
    "            logical_intersect = torch.max(t1*t2,0)[0] *(t1.sum(dim=0)>1)\n",
    "#             lmbdas[:, 1:-1, 1:-1] += unary * ((max_iters-t)/max_iters) #Product term to reduce strength of prior over time\n",
    "            lmbdas[:, 1:-1, 1:-1] += unary * unary_func(max_iters,t) * ~logical_intersect\n",
    "            lmbdas /= lmbdas.sum(dim=0, keepdim=True)\n",
    "        # Left neighbor:   sum over permutations of the (i, j-1)th patch, i.e. dimension 0\n",
    "        s = (lmbdas.unsqueeze(1)[:, :, 1:-1, :-2] * horizontal_logpsi[:, :, 1:-1, :-1]).sum(dim=0)\n",
    "        # Right neighbor:  sum over permutations of the (i, j+1)th patch, i.e. dimension 1\n",
    "        s += (lmbdas.unsqueeze(0)[:, :, 1:-1, 2:] * horizontal_logpsi[:, :, 1:-1, 1:]).sum(dim=1)\n",
    "        # Top neighbor:    sum over permutations of the (i-1, j)th patch, i.e. dimension 0\n",
    "        s += (lmbdas.unsqueeze(1)[:, :, :-2, 1:-1] * vertical_logpsi[:, :, :-1, 1:-1]).sum(dim=0)\n",
    "        # Bottom neighbor: sum over permutations of the (i+1, j)th patch, i.e. dimension 1\n",
    "        s += (lmbdas.unsqueeze(0)[:, :, 2:, 1:-1] * vertical_logpsi[:, :, 1:, 1:-1]).sum(dim=1)\n",
    "\n",
    "        if neighborhood == 8:\n",
    "            # TL neighbor: sum over permutations of the (i-1, j-1)th patch, i.e. dimension 0\n",
    "            s += (lmbdas.unsqueeze(1)[:, :, :-2, :-2] * angle45_logpsi[:, :, :-1, :-1]).sum(dim=0)\n",
    "            # BR neighbor: sum over permutations of the (i+1, j+1)th patch, i.e. dimension 1\n",
    "            s += (lmbdas.unsqueeze(0)[:, :, 2:, 2:] * angle45_logpsi[:, :, 1:, 1:]).sum(dim=1)\n",
    "            # TR neighbor: sum over permutations of the (i-1, j+1)th patch, i.e. dimension 0\n",
    "            s += (lmbdas.unsqueeze(1)[:, :, :-2, 2:] * angle135_logpsi[:, :, :-1, 1:]).sum(dim=0)\n",
    "            # BL neighbor: sum over permutations of the (i+1, j-1)th patch, i.e. dimension 1\n",
    "            s += (lmbdas.unsqueeze(0)[:, :, 2:, :-2] * angle135_logpsi[:, :, 1:, :-1]).sum(dim=1)\n",
    "\n",
    "        # Update parameters according to CAVI update\n",
    "        lmbdas[:, 1:-1, 1:-1] = torch.exp(s)\n",
    "\n",
    "\n",
    "        # Normalize and reset top-left distribution\n",
    "\n",
    "        lmbdas /= lmbdas.sum(dim=0, keepdim=True)\n",
    "\n",
    "\n",
    "#         lmbdas[0, seed[0] + 1, seed[1] + 1] = 1.0\n",
    "#         lmbdas[1:, seed[0] + 1, seed[1] + 1] = 0.0\n",
    "\n",
    "    lmbdas = lmbdas[:, 1:-1, 1:-1]\n",
    "\n",
    "    indices = lmbdas.argmax(0)  # shape [H_patches, W_patches]\n",
    "\n",
    "    return indices\n",
    "\n",
    "def expanded_resolve_permutations_mrf(permutations, stride, Ns, PLOT=False, unary = None, unary_func = None, max_iters=None, func=None, func2=None, seed=None):\n",
    "    \"\"\"\n",
    "    #region_patches has shape [1, 1, 3, 1, RF, RF, H_patches, W_patches]\n",
    "    permutations has shape [3, 6, RF, RF, H_patches, W_patches]\n",
    "    \"\"\"\n",
    "\n",
    "    H_patches = permutations.shape[-2]\n",
    "    W_patches = permutations.shape[-1]\n",
    "\n",
    "    RF = permutations.shape[-3]\n",
    "    assert permutations.shape[-4] == RF, \"RF must be square\"\n",
    "\n",
    "    if func is None:\n",
    "        func = lambda x: 10.0 * torch.exp(-100.0 * x)\n",
    "\n",
    "    if func2 is None:\n",
    "        func2 = lambda x: 10.0 * torch.exp(-100.0 * x)\n",
    "\n",
    "    if max_iters is None:\n",
    "        max_iters = 2 * max([W_patches, H_patches])\n",
    "\n",
    "    N_list = np.arange(-Ns,Ns+1)\n",
    "\n",
    "    # Set all distributions to uniform except seed which is set to [1, 0, 0, 0, 0, 0].\n",
    "    lmbdas = torch.ones((6, H_patches, W_patches), dtype=torch.float32).to(permutations.device) / 6.0\n",
    "    \n",
    "    #Create log_psi_mat\n",
    "    log_psi_mat = torch.zeros(6,6,H_patches,W_patches,Ns*2+1,Ns*2+1)\n",
    "    for i, hs in enumerate(N_list):\n",
    "        for j, vs in enumerate(N_list):\n",
    "            if [hs,vs] != [0,0]:\n",
    "                padarr = [0,0,0,0]\n",
    "                #This can be simplified somehow for sure \n",
    "                if hs>0:\n",
    "                    Px = permutations[:,:,hs*stride:,:,:-hs,:]\n",
    "                    shift_Px = permutations[:,:,:-hs*stride,:,hs:,:]\n",
    "                    padarr[3] = hs\n",
    "                elif hs == 0:\n",
    "                    Px = permutations\n",
    "                    shift_Px = permutations\n",
    "                    padarr[3] = hs\n",
    "                else:\n",
    "                    Px = permutations[:,:,:hs*stride,:,-hs:,:] \n",
    "                    shift_Px = permutations[:,:,-hs*stride:,:,:hs,:]\n",
    "                    padarr[2] = -hs\n",
    "                if vs>0: \n",
    "                    Py = Px[:,:,:,vs*stride:,:,:-vs]\n",
    "                    shift_Py = shift_Px[:,:,:,:-vs*stride,:,vs:]\n",
    "                    padarr[1] = vs\n",
    "                elif vs == 0: \n",
    "                    Py = Px\n",
    "                    shift_Py = shift_Px\n",
    "                    padarr[1] = vs\n",
    "                else:\n",
    "                    Py = Px[:,:,:,:vs*stride,:,-vs:] \n",
    "                    shift_Py = shift_Px[:,:,:,-vs*stride:,:,:vs]\n",
    "                    padarr[0] = -vs\n",
    "\n",
    "                t1 = func((shift_Py.unsqueeze(2)-Py.unsqueeze(1)).abs().sum(0).mean(2).mean(2));\n",
    "\n",
    "                log_psi_mat[...,i,j] = F.pad(t1,padarr)\n",
    "            \n",
    "    # Unless specified, set seed to the non-constant patch closest to center\n",
    "#     lmbdas[0, seed[0] + 1, seed[1] + 1] = 1.0\n",
    "#     lmbdas[1:, seed[0] + 1, seed[1] + 1] = 0.0\n",
    "\n",
    "    ind_list = []\n",
    "    for t in range(max_iters):\n",
    "\n",
    "        #ADDED UNARY TERM UPDATES\n",
    "        if unary is not None:\n",
    "            t1 = lmbdas == torch.max(lmbdas,0)[0].unsqueeze(0).repeat(6,1,1)\n",
    "            t2 = unary == torch.max(unary,0)[0].unsqueeze(0).repeat(6,1,1)\n",
    "            #Logical intersect tells if argmax of q_j and the potential at j are equal\n",
    "            #Second term exculdes suprious equalities (when many of the q_j are the same (happens a lot at init))\n",
    "            logical_intersect = torch.max(t1*t2,0)[0] *(t1.sum(dim=0)>1)\n",
    "#             lmbdas[:, 1:-1, 1:-1] += unary * ((max_iters-t)/max_iters) #Product term to reduce strength of prior over time\n",
    "            lmbdas += unary * unary_func(max_iters,t) * ~logical_intersect\n",
    "            lmbdas /= lmbdas.sum(dim=0, keepdim=True)\n",
    "        \n",
    "        lmbdas_mat = expand_lmbdas(lmbdas,Ns)\n",
    "#         print(lmbdas.shape,lmbdas_mat.shape,log_psi_mat.shape)\n",
    "        #Calculate s and exponentiate\n",
    "        s = (log_psi_mat*lmbdas_mat).sum(1).sum(3).sum(3)\n",
    "\n",
    "        # Update parameters according to CAVI update\n",
    "        lmbdas = torch.exp(s)\n",
    "\n",
    "\n",
    "        # Normalize and reset top-left distribution\n",
    "\n",
    "        lmbdas /= lmbdas.sum(dim=0, keepdim=True)\n",
    "\n",
    "\n",
    "#         lmbdas[0, seed[0] + 1, seed[1] + 1] = 1.0\n",
    "#         lmbdas[1:, seed[0] + 1, seed[1] + 1] = 0.0\n",
    "        if PLOT:\n",
    "            indices = lmbdas.argmax(0)  # shape [H_patches, W_patches]\n",
    "            ind_list.append(indices.detach()) \n",
    "\n",
    "    lmbdas = lmbdas\n",
    "    \n",
    "    \n",
    "    indices = lmbdas.argmax(0)  # shape [H_patches, W_patches]\n",
    "    if PLOT:\n",
    "        return indices,ind_list\n",
    "    return indices\n",
    "\n",
    "# lmbdas = torch.ones((6, H_patches, W_patches), dtype=torch.float32) / 6.0\n",
    "\n",
    "def expand_lmbdas(lmbdas,Ns):\n",
    "    lmbdas_mat = torch.zeros(6,H_patches, W_patches,Ns*2+1,Ns*2+1)\n",
    "    N_list = np.arange(-Ns,Ns+1)\n",
    "    for i, hs in enumerate(N_list):\n",
    "        for j, vs in enumerate(N_list):\n",
    "            if [hs,vs] is not [0,0]:\n",
    "                padarr = [0,0,0,0]\n",
    "                #This can be simplified somehow for sure \n",
    "                if hs>0:\n",
    "                    lmbdasx = lmbdas[:,hs:,:]\n",
    "                    padarr[3] = hs\n",
    "                elif hs == 0:\n",
    "                    lmbdasx = lmbdas\n",
    "                else:\n",
    "                    lmbdasx = lmbdas[:,:hs,:] \n",
    "                    padarr[2] = -hs\n",
    "                if vs>0: \n",
    "                    lmbdasy = lmbdasx[:,:,vs:]\n",
    "                    padarr[1] = vs\n",
    "                elif vs == 0:\n",
    "                    lmbdasy = lmbdasx\n",
    "                else:\n",
    "                    lmbdasy = lmbdasx[:,:,:vs] \n",
    "                    padarr[0] = -vs\n",
    "                lmbdas_mat[...,i,j] = F.pad(lmbdasy,padarr)\n",
    "    return lmbdas_mat\n",
    "\n",
    "perm_list = torch.tensor([[0, 1, 2],\n",
    "                          [0, 2, 1],\n",
    "                          [1, 2, 0],\n",
    "                          [1, 0, 2],\n",
    "                          [2, 0, 1],\n",
    "                          [2, 1, 0]]).long()"
   ]
  },
  {
   "cell_type": "code",
   "execution_count": 3,
   "id": "opened-corpus",
   "metadata": {},
   "outputs": [],
   "source": [
    "def generate_log_psi_mat(permutations, stride):\n",
    "    Ns = 1\n",
    "    log_psi_mat = torch.zeros(6,6,H_patches,W_patches,Ns*2+1,Ns*2+1)\n",
    "    for i, hs in enumerate(N_list):\n",
    "        for j, vs in enumerate(N_list):\n",
    "            if [hs,vs] is not [0,0]:\n",
    "                padarr = [0,0,0,0]\n",
    "                #This can be simplified somehow for sure \n",
    "                if hs>0:\n",
    "                    Px = permutations[:,:,hs*stride:,:,:-hs,:]\n",
    "                    shift_Px = permutations[:,:,:-hs*stride,:,hs:,:]\n",
    "                    padarr[3] = hs\n",
    "                elif hs == 0:\n",
    "                    Px = permutations\n",
    "                    shift_Px = permutations\n",
    "                    padarr[3] = hs\n",
    "                else:\n",
    "                    Px = permutations[:,:,:hs*stride,:,-hs:,:] \n",
    "                    shift_Px = permutations[:,:,-hs*stride:,:,:hs,:]\n",
    "                    padarr[2] = -hs\n",
    "                if vs>0: \n",
    "                    Py = Px[:,:,:,vs*stride:,:,:-vs]\n",
    "                    shift_Py = shift_Px[:,:,:,:-vs*stride,:,vs:]\n",
    "                    padarr[1] = vs\n",
    "                elif vs == 0: \n",
    "                    Py = Px\n",
    "                    shift_Py = shift_Px\n",
    "                    padarr[1] = vs\n",
    "                else:\n",
    "                    Py = Px[:,:,:,:vs*stride,:,-vs:] \n",
    "                    shift_Py = shift_Px[:,:,:,-vs*stride:,:,:vs]\n",
    "                    padarr[0] = -vs\n",
    "\n",
    "                t1 = func((shift_Py.unsqueeze(2)-Py.unsqueeze(1)).abs().sum(0).mean(2).mean(2));\n",
    "\n",
    "                log_psi_mat[...,i,j] = F.pad(t1,padarr)\n",
    "    return log_psi_mat"
   ]
  },
  {
   "cell_type": "code",
   "execution_count": 3,
   "id": "cd2c0a1a",
   "metadata": {},
   "outputs": [],
   "source": []
  },
  {
   "cell_type": "code",
   "execution_count": 3,
   "id": "50a38b65",
   "metadata": {},
   "outputs": [],
   "source": []
  },
  {
   "cell_type": "markdown",
   "id": "cf7fff05",
   "metadata": {},
   "source": [
    "## Creating Image "
   ]
  },
  {
   "cell_type": "code",
   "execution_count": 4,
   "id": "9d04f8ac",
   "metadata": {},
   "outputs": [
    {
     "name": "stderr",
     "output_type": "stream",
     "text": [
      "C:\\Users\\Aneel\\AppData\\Local\\Temp/ipykernel_3024/1778808360.py:73: DeprecationWarning: `np.bool` is a deprecated alias for the builtin `bool`. To silence this warning, use `bool` by itself. Doing this will not modify any behavior and is safe. If you specifically wanted the numpy scalar type, use `np.bool_` here.\n",
      "Deprecated in NumPy 1.20; for more details and guidance: https://numpy.org/devdocs/release/1.20.0-notes.html#deprecations\n",
      "  junctions = np.ones((H, W), dtype=np.bool)\n"
     ]
    },
    {
     "ename": "NameError",
     "evalue": "name 'Hplt' is not defined",
     "output_type": "error",
     "traceback": [
      "\u001B[1;31m---------------------------------------------------------------------------\u001B[0m",
      "\u001B[1;31mNameError\u001B[0m                                 Traceback (most recent call last)",
      "\u001B[1;32m~\\AppData\\Local\\Temp/ipykernel_3024/1778808360.py\u001B[0m in \u001B[0;36m<module>\u001B[1;34m\u001B[0m\n\u001B[0;32m    123\u001B[0m \u001B[0mimg\u001B[0m \u001B[1;33m=\u001B[0m \u001B[0mnp\u001B[0m\u001B[1;33m.\u001B[0m\u001B[0masarray\u001B[0m\u001B[1;33m(\u001B[0m\u001B[0mimg\u001B[0m\u001B[1;33m/\u001B[0m\u001B[1;36m255.0\u001B[0m\u001B[1;33m,\u001B[0m\u001B[0mdtype\u001B[0m\u001B[1;33m=\u001B[0m\u001B[0mnp\u001B[0m\u001B[1;33m.\u001B[0m\u001B[0mfloat32\u001B[0m\u001B[1;33m)\u001B[0m\u001B[1;33m\u001B[0m\u001B[1;33m\u001B[0m\u001B[0m\n\u001B[0;32m    124\u001B[0m \u001B[0mplt\u001B[0m\u001B[1;33m.\u001B[0m\u001B[0mtitle\u001B[0m\u001B[1;33m(\u001B[0m\u001B[1;34m'Original Image'\u001B[0m\u001B[1;33m)\u001B[0m\u001B[1;33m\u001B[0m\u001B[1;33m\u001B[0m\u001B[0m\n\u001B[1;32m--> 125\u001B[1;33m \u001B[0mHplt\u001B[0m\u001B[1;33m.\u001B[0m\u001B[0maxis\u001B[0m\u001B[1;33m(\u001B[0m\u001B[1;34m'off'\u001B[0m\u001B[1;33m)\u001B[0m\u001B[1;33m;\u001B[0m\u001B[1;33m\u001B[0m\u001B[1;33m\u001B[0m\u001B[0m\n\u001B[0m\u001B[0;32m    126\u001B[0m \u001B[1;33m\u001B[0m\u001B[0m\n",
      "\u001B[1;31mNameError\u001B[0m: name 'Hplt' is not defined"
     ]
    },
    {
     "data": {
      "text/plain": "<Figure size 432x288 with 1 Axes>",
      "image/png": "[encoded data removed]"
     },
     "metadata": {
      "needs_background": "light"
     },
     "output_type": "display_data"
    }
   ],
   "source": [
    "import numpy as np\n",
    "import cv2\n",
    "\n",
    "\n",
    "def perlin(x,y,seed=0):\n",
    "    # permutation table\n",
    "    #np.random.seed(seed)\n",
    "    p = np.arange(256,dtype=int)\n",
    "    np.random.shuffle(p)\n",
    "    p = np.stack([p,p]).flatten()\n",
    "    # coordinates of the top-left\n",
    "    xi = x.astype(int)\n",
    "    yi = y.astype(int)\n",
    "    # internal coordinates\n",
    "    xf = x - xi\n",
    "    yf = y - yi\n",
    "    # fade factors\n",
    "    u = fade(xf)\n",
    "    v = fade(yf)\n",
    "    # noise components\n",
    "    n00 = gradient(p[p[xi]+yi],xf,yf)\n",
    "    n01 = gradient(p[p[xi]+yi+1],xf,yf-1)\n",
    "    n11 = gradient(p[p[xi+1]+yi+1],xf-1,yf-1)\n",
    "    n10 = gradient(p[p[xi+1]+yi],xf-1,yf)\n",
    "    # combine noises\n",
    "    x1 = lerp(n00,n10,u)\n",
    "    x2 = lerp(n01,n11,u) # FIX1: I was using n10 instead of n01\n",
    "    return lerp(x1,x2,v) # FIX2: I also had to reverse x1 and x2 here\n",
    "\n",
    "def lerp(a,b,x):\n",
    "    \"linear interpolation\"\n",
    "    return a + x * (b-a)\n",
    "\n",
    "def fade(t):\n",
    "    \"6t^5 - 15t^4 + 10t^3\"\n",
    "    return 6 * t**5 - 15 * t**4 + 10 * t**3\n",
    "\n",
    "def gradient(h,x,y):\n",
    "    \"grad converts h to the right gradient vector and return the dot product with (x,y)\"\n",
    "    vectors = np.array([[0,1],[0,-1],[1,0],[-1,0]])\n",
    "    g = vectors[h%4]\n",
    "    return g[:,:,0] * x + g[:,:,1] * y\n",
    "\n",
    "\n",
    "def get_curvature(rad):\n",
    "\n",
    "    rad_t_plus_1  = np.concatenate([rad[1:], rad[:1]], axis=0)\n",
    "    rad_t_minus_1 = np.concatenate([rad[-1:], rad[:-1]], axis=0)\n",
    "\n",
    "    drad  = 0.5 * (rad_t_plus_1 - rad_t_minus_1) / (angle[1] - angle[0])\n",
    "    d2rad = (rad_t_plus_1 - 2 * rad + rad_t_minus_1) / (angle[1] - angle[0]) ** 2\n",
    "\n",
    "    curvature = np.abs(rad ** 2 + 2 * drad ** 2 - rad * d2rad) / np.sqrt((rad ** 2 + drad ** 2) ** 3)\n",
    "\n",
    "    return curvature\n",
    "\n",
    "\n",
    "\n",
    "H = W = 201\n",
    "maxrad = H / 2.5\n",
    "minrad = H / 4.0\n",
    "\n",
    "RF = 21\n",
    "\n",
    "num_imgs = 1\n",
    "\n",
    "np.random.seed(2020)\n",
    "for i in range(num_imgs):\n",
    "\n",
    "    img_np = np.zeros((H, W), dtype=np.uint8)\n",
    "    edges = np.zeros((H, W), dtype=np.uint8)\n",
    "    curvature_img = np.zeros((H, W), dtype=np.float32)\n",
    "    junctions = np.ones((H, W), dtype=np.bool)\n",
    "\n",
    "    axis_angle = np.random.rand() * 2 * np.pi\n",
    "\n",
    "    colors = [255, 128] if np.random.rand() > 0.5 else [128, 255]\n",
    "    for blob_id, clr in enumerate(colors):\n",
    "        angle = np.linspace(0.0, 2*np.pi, 10001)[:-1]\n",
    "\n",
    "        xp = 2.5 + 0.6 * np.cos(angle[np.newaxis, :])\n",
    "        yp = 2.5 + 0.6 * np.sin(angle[np.newaxis, :])\n",
    "\n",
    "        p = perlin(xp, yp)\n",
    "\n",
    "        rad = minrad + (maxrad - minrad) * (0.5 + p)[0, :]\n",
    "\n",
    "        \n",
    "        xlist = rad * np.cos(angle) + 0.5 * H + 0.1 * H * np.cos(axis_angle + np.pi * (blob_id == 1))\n",
    "        ylist = rad * np.sin(angle) + 0.5 * W + 0.1 * W * np.sin(axis_angle + np.pi * (blob_id == 1))\n",
    "\n",
    "        pts = np.array([[int(x), int(y)] for (x, y) in zip(xlist, ylist)])\n",
    "        pts = pts.reshape((1, -1, 2))\n",
    "\n",
    "#         np.save(f'datasets/blobs_small/rad_{blob_id}_{i:03}.npy', rad)\n",
    "#         np.save(f'datasets/blobs_small/pts_{blob_id}_{i:03}.npy', pts)\n",
    "        \n",
    "        \n",
    "        curr_edges = np.zeros((H, W), dtype=np.uint8)\n",
    "        cv2.fillPoly(img_np, pts, color=clr, lineType=cv2.LINE_AA)\n",
    "        cv2.fillPoly(edges, pts, color=(0,))\n",
    "        cv2.fillPoly(curr_edges, pts, color=(0,))\n",
    "        cv2.fillPoly(curvature_img, pts, color=(0,))\n",
    "        \n",
    "        curvature = get_curvature(rad)\n",
    "        for t in range(1000):\n",
    "            clr = curvature[10*t:10*t+10].mean() / 0.02  # Not sure why 0.02, but that's the range\n",
    "            cv2.polylines(curvature_img, pts[:, 10*t:10*t+10, :], False, (clr,), 1)\n",
    "            cv2.polylines(curr_edges,    pts[:, 10*t:10*t+10, :], False, (255,), 1)\n",
    "            cv2.polylines(edges,         pts[:, 10*t:10*t+10, :], False, (255,), 1)\n",
    "            \n",
    "        \n",
    "        junctions &= (curr_edges > 128)\n",
    "\n",
    "\n",
    "# img_np = cv2.resize(img_np, (55, 55), interpolation=cv2.INTER_AREA)\n",
    "# edges = cv2.resize(edges, (55, 55), interpolation=cv2.INTER_AREA)\n",
    "# junctions = cv2.resize(np.uint8(junctions) * 255, (55, 55), interpolation=cv2.INTER_AREA)\n",
    "# curvature_img = cv2.resize(curvature_img, (55, 55), interpolation=cv2.INTER_AREA)\n",
    "\n",
    "plt.imshow(img_np,cmap='gray')\n",
    "img = img_np.reshape(img_np.shape[0],img_np.shape[1],1)\n",
    "img = np.asarray(img/255.0,dtype=np.float32)\n",
    "plt.title('Original Image')\n",
    "Hplt.axis('off');"
   ]
  },
  {
   "cell_type": "code",
   "execution_count": null,
   "id": "ignored-scheme",
   "metadata": {},
   "outputs": [],
   "source": [
    "H=W=30\n",
    "img_np = np.zeros((H, W), dtype=np.uint8)\n",
    "\n",
    "colors = [255, 128] if np.random.rand() > 0.5 else [128, 255]\n",
    "\n",
    "xlist  = [0,0,int(H/2)]\n",
    "ylist = [5,H,int(H/2)]\n",
    "pts = np.array([[int(x), int(y)] for (x, y) in zip(xlist, ylist)])\n",
    "pts = pts.reshape((1, -1, 2))\n",
    "\n",
    "#         np.save(f'datasets/blobs_small/rad_{blob_id}_{i:03}.npy', rad)\n",
    "#         np.save(f'datasets/blobs_small/pts_{blob_id}_{i:03}.npy', pts)\n",
    "\n",
    "clr=128\n",
    "cv2.fillPoly(img_np, pts, color=clr, lineType=cv2.LINE_AA)\n",
    "\n",
    "clr=255\n",
    "xlist  = [0,H,H]\n",
    "ylist = [H,H,0]\n",
    "pts = np.array([[int(x), int(y)] for (x, y) in zip(xlist, ylist)])\n",
    "pts = pts.reshape((1, -1, 2))\n",
    "cv2.fillPoly(img_np, pts, color=clr, lineType=cv2.LINE_AA)\n",
    "img = img_np.reshape(img_np.shape[0],img_np.shape[1],1)\n",
    "img = np.asarray(img/255.0,dtype=np.float32)\n",
    "plt.imshow(img_np,cmap='gray')\n",
    "# plt.axis('off')\n"
   ]
  },
  {
   "cell_type": "code",
   "execution_count": null,
   "id": "future-financing",
   "metadata": {},
   "outputs": [],
   "source": [
    "H=W=30\n",
    "img_np = np.zeros((H, W), dtype=np.uint8)\n",
    "\n",
    "fr = 8\n",
    "clr=255\n",
    "xlist  = [int(H/fr),int(H/fr),int((fr-1)*H/fr),int((fr-1)*H/fr)]\n",
    "ylist =  [int(H/fr),int((fr-1)*H/fr),int((fr-1)*H/fr),int(H/fr)]\n",
    "pts = np.array([[int(x), int(y)] for (x, y) in zip(xlist, ylist)])\n",
    "pts = pts.reshape((1, -1, 2))\n",
    "cv2.fillPoly(img_np, pts, color=clr)\n",
    "img = img_np.reshape(img_np.shape[0],img_np.shape[1],1)\n",
    "img = np.asarray(img/255.0,dtype=np.float32)\n",
    "plt.imshow(img_np,cmap='gray')\n"
   ]
  },
  {
   "cell_type": "markdown",
   "id": "44f5499d",
   "metadata": {},
   "source": [
    "## FoJ on Image"
   ]
  },
  {
   "cell_type": "code",
   "execution_count": null,
   "id": "31c7c05a",
   "metadata": {},
   "outputs": [],
   "source": [
    "# Create opts object\n",
    "opts = SimpleNamespace()\n",
    "\n",
    "opts.R                        = 21\n",
    "opts.stride                   = 1\n",
    "opts.eta                      = 0.01\n",
    "opts.delta                    = 0.05\n",
    "opts.lr_angles                = 0.003\n",
    "opts.lr_x0y0                  = 0.03\n",
    "opts.lambda_boundary_final    = 0.5\n",
    "opts.lambda_color_final       = 0.1\n",
    "opts.nvals                    = 31\n",
    "opts.num_initialization_iters = 20\n",
    "opts.num_refinement_iters     = 1000\n",
    "opts.greedy_step_every_iters  = 50\n",
    "opts.parallel_mode            = True\n",
    "opts.ang_per_vertex           = 3\n",
    "\n",
    "\n",
    "# Define function for optimization (foj.optimize() may be used instead)\n",
    "def foj_optimize_verbose():\n",
    "    for i in range(foj.num_iters):\n",
    "        if i == 0:\n",
    "            print(\"Beginning initialization...\")\n",
    "        if i == opts.num_initialization_iters:\n",
    "            print(\"Initialization done. Beginning refinement...\")\n",
    "        if i < opts.num_initialization_iters:\n",
    "            if i % 5 == 0:\n",
    "                print(f\"Initialization iteration {i}/{opts.num_initialization_iters}\")\n",
    "        else:\n",
    "            if i % 100 == 0:\n",
    "                print(f\"Refinement iteration {i}/{opts.num_refinement_iters}\")\n",
    "        foj.step(i)\n",
    "\n",
    "# Create and optimize field of junctions\n",
    "foj = FieldOfJunctions(img, opts)\n",
    "%time foj_optimize_verbose()       # Run optimization with some printing\n",
    "\n",
    "# Compute smoothed image and boundary map\n",
    "params = torch.cat([foj.angles, foj.x0y0], dim=1)\n",
    "dists, _, patches = foj.get_dists_and_patches(params)\n",
    "local_boundaries = foj.dists2boundaries(dists)\n",
    "global_boundaries = foj.local2global(local_boundaries)[0, 0, :, :].detach().cpu().numpy()\n",
    "smoothed_img = foj.local2global(patches)[0, :, :, :].permute(1, 2, 0).detach().cpu().numpy()\n",
    "\n",
    "plt.figure(figsize=[12, 12])\n",
    "plt.subplot(131)\n",
    "plt.imshow(img)\n",
    "plt.title('Input')\n",
    "plt.axis('off')\n",
    "plt.subplot(132)\n",
    "plt.imshow(global_boundaries, cmap='gray')\n",
    "plt.title('Global boundaries')\n",
    "plt.axis('off')\n",
    "plt.subplot(133)\n",
    "plt.imshow(smoothed_img)\n",
    "plt.title('Smoothed image')\n",
    "plt.axis('off')"
   ]
  },
  {
   "cell_type": "markdown",
   "id": "08041e60",
   "metadata": {},
   "source": [
    "## Sorting patches by wedge angle subtended "
   ]
  },
  {
   "cell_type": "code",
   "execution_count": null,
   "id": "e7163cee",
   "metadata": {},
   "outputs": [],
   "source": [
    "#Get wedges|\n",
    "wedges = foj.dists2indicators(dists).detach().cpu().numpy()\n",
    "\n",
    "#Get numbers of patches\n",
    "H_patches = wedges.shape[4]\n",
    "W_patches = wedges.shape[5]\n",
    "N=1\n",
    "\n",
    "#Get base angles from horizon\n",
    "angles = torch.remainder(params[:, :3, :, :], 2 * np.pi)\n",
    "angles = torch.sort(angles, dim=1)[0].detach().cpu().numpy()\n",
    "\n",
    "#Slice for horizon angles\n",
    "t_angle1 = angles[0, 0, :, :]   # shape [N, 1, 1, H', W']\n",
    "t_angle2 = angles[0, 1, :, :]   # shape [N, 1, 1, H', W']\n",
    "t_angle3 = angles[0, 2, :, :]  # shape [N, 1, 1, H', W']\n",
    "\n",
    "#ANGLES ARE SWAPPED BECUASE WEDGES ORDERED COUNTERCLOCKWISE\n",
    "angle1 = np.remainder(t_angle1-t_angle3,2*np.pi)\n",
    "angle3 = np.remainder(t_angle2-t_angle1,2*np.pi) \n",
    "angle2 = np.remainder(t_angle3-t_angle2,2*np.pi)\n",
    "anglemat = np.stack((angle1,angle2,angle3),axis = 0)\n",
    "\n",
    "#Sort and argsort angles\n",
    "sorted_angles = -1*torch.tensor(np.sort(-anglemat,axis=0))\n",
    "ang_sort_idx = torch.tensor(np.argsort(-anglemat,axis=0))\n",
    "# angles_ascending = np.take_along_axis(useful_angles, ang_sort_idx, axis=0)\n",
    "ang_sort_idx = ang_sort_idx.unsqueeze(-1).swapdims(0,3).squeeze(0)\n",
    "ang_sort_idx = ang_sort_idx.view(1,1,1,1,H_patches,W_patches,3)\n",
    "ang_sort_idx = ang_sort_idx.repeat(1,1,opts.R,opts.R,1,1,1)\n",
    "\n",
    "#Reshape wedges, and patches\n",
    "wedges = foj.dists2indicators(dists).detach().cpu()\n",
    "perm_wedges = wedges.unsqueeze(-1).swapdims(1,6)\n",
    "ang_sorted_wedges_resh = torch.gather(perm_wedges, -1, ang_sort_idx)\n",
    "ang_sorted_wedges = ang_sorted_wedges_resh.swapdims(1,6).squeeze(-1)\n",
    "\n",
    "ang_region_patches = ang_sorted_wedges.unsqueeze(1).unsqueeze(3)\n",
    "ang_permutations = get_permutations(ang_region_patches)"
   ]
  },
  {
   "cell_type": "markdown",
   "id": "f5a95d77",
   "metadata": {},
   "source": [
    "## Creating unary potentials (using logical patch rules)"
   ]
  },
  {
   "cell_type": "code",
   "execution_count": null,
   "id": "2fb3b61b",
   "metadata": {},
   "outputs": [],
   "source": [
    "#Angle thresholds \n",
    "epsilon_0 = .3\n",
    "epsilon_1 = .1\n",
    "epsilon_2 = .1\n",
    "\n",
    "#Threshold for if a vertex is outside the box\n",
    "out_of_bounds = torch.max(torch.abs(foj.x0y0),axis=1)[0].squeeze(0) \n",
    "#Booleans representing the conditionals\n",
    "w0_pi = torch.abs(sorted_angles[0,...]-np.pi)<epsilon_0\n",
    "i_w0_pi = torch.abs(sorted_angles[0,...]-np.pi)>epsilon_1\n",
    "w1_pi = torch.abs(sorted_angles[1,...]-np.pi)<epsilon_1\n",
    "w2_zero = sorted_angles[2,...]<epsilon_2\n",
    "\n",
    "unary_pots = np.zeros((6,*w2_zero.cpu().numpy().shape)) \n",
    "unary_pots[:,w0_pi.cpu().numpy()& ~w2_zero.cpu().numpy()] = np.array([[1,1,0,0,0,0]]).T\n",
    "unary_pots[:,w2_zero.cpu().numpy()&~w1_pi.cpu().numpy()] = np.array([[0,0,1,1,0,1]]).T\n",
    "# unary_pots[:,(~w0_pi.cpu().numpy()& ~w2_zero.cpu().numpy())|(out_of_bounds>1).cpu().numpy()] = np.array([[0,0,0,0,0,0]]).T"
   ]
  },
  {
   "cell_type": "markdown",
   "id": "aee98056",
   "metadata": {},
   "source": [
    "## Running Permutation Resolver + Plotting results"
   ]
  },
  {
   "cell_type": "code",
   "execution_count": null,
   "id": "412deff9",
   "metadata": {},
   "outputs": [],
   "source": [
    "import torch.nn.functional as F\n",
    "def unary_func(max_iters,t):\n",
    "    return np.sqrt(max_iters-t)/np.sqrt(max_iters)\n",
    "def func(x):\n",
    "    x = -x.abs()\n",
    "    mult = torch.exp(-30.0 * x.max(0, keepdim=True)[0].max(1, keepdim=True)[0] ** 2)\n",
    "    return mult* torch.exp(3.0 * x)\n",
    "\n",
    "# ang_idxs_unary = expanded_resolve_permutations_mrf(ang_permutations, stride=1, Ns=1, max_iters=2000,unary = torch.tensor(0*.0000001*unary_pots), unary_func = unary_func, func=func, func2=func, seed=[50,0])\n",
    "ang_idxs_unary = local_resolve_permutations_mrf(ang_permutations, stride=3, neighborhood=8, max_iters=2000,unary = torch.tensor(.000001*unary_pots), unary_func = unary_func, func=func, func2=func, seed=[50,0])"
   ]
  },
  {
   "cell_type": "code",
   "execution_count": null,
   "id": "4afe4f31",
   "metadata": {},
   "outputs": [],
   "source": [
    "# H = W = 24\n",
    "\n",
    "ang_perm_tensor_unary = perm_list[ang_idxs_unary].view(1,1,1,1,H_patches,W_patches,3)\n",
    "ang_perm_tensor_unary = ang_perm_tensor_unary.repeat(1,1,opts.R,opts.R,1,1,1)\n",
    "\n",
    "ang_perm_wedges_unary = torch.gather(ang_sorted_wedges_resh, -1, ang_perm_tensor_unary)\n",
    "ang_perm_wedges_unary = ang_perm_wedges_unary.swapdims(1,6).squeeze(6)\n",
    "\n",
    "wedge_out_unary_1 = reconstruct_img(ang_perm_wedges_unary[0,0,...],H,W,opts.stride,opts.R)\n",
    "wedge_out_unary_2 = reconstruct_img(ang_perm_wedges_unary[0,1,...],H,W,opts.stride,opts.R)\n",
    "wedge_out_unary_3 = reconstruct_img(ang_perm_wedges_unary[0,2,...],H,W,opts.stride,opts.R)\n",
    "plt.figure(figsize=[10,30])\n",
    "plt.subplot(131)\n",
    "plt.imshow(wedge_out_unary_1,vmin=0,vmax=1)\n",
    "# plt.colorbar()\n",
    "plt.axis('off')\n",
    "plt.title('Layer 1')\n",
    "plt.subplot(132)\n",
    "plt.imshow(wedge_out_unary_2,vmin=0,vmax=1)\n",
    "# plt.colorbar()\n",
    "plt.axis('off')\n",
    "plt.title('Layer 2')\n",
    "plt.subplot(133)\n",
    "plt.imshow(wedge_out_unary_3,vmin=0,vmax=1)\n",
    "# plt.colorbar()\n",
    "plt.axis('off')\n",
    "plt.title('Layer 3')\n",
    "plt.suptitle('Pixelwise layer-certainty estimates with unary potentials')\n",
    "plt.subplots_adjust(top=1.73);"
   ]
  },
  {
   "cell_type": "code",
   "execution_count": null,
   "id": "absolute-association",
   "metadata": {},
   "outputs": [],
   "source": [
    "ang_idxs_unary.shape"
   ]
  },
  {
   "cell_type": "code",
   "execution_count": null,
   "id": "demanding-refund",
   "metadata": {},
   "outputs": [],
   "source": [
    "sorted_angles.shape"
   ]
  },
  {
   "cell_type": "code",
   "execution_count": null,
   "id": "formed-wildlife",
   "metadata": {},
   "outputs": [],
   "source": [
    "unary_pots.shape"
   ]
  },
  {
   "cell_type": "code",
   "execution_count": null,
   "id": "packed-citizen",
   "metadata": {},
   "outputs": [],
   "source": [
    "ang_permutations.shape\n",
    "unary_input = ang_sorted_wedges.squeeze(0)\n"
   ]
  },
  {
   "cell_type": "code",
   "execution_count": null,
   "id": "essential-documentary",
   "metadata": {},
   "outputs": [],
   "source": [
    "rule1 = w0_pi.cpu().numpy()& ~w2_zero.cpu().numpy() & (out_of_bounds<1).cpu().numpy()\n",
    "rule2 = w2_zero.cpu().numpy()&~w1_pi.cpu().numpy() & (out_of_bounds<1).cpu().numpy()\n",
    "rule1[0,0]"
   ]
  },
  {
   "cell_type": "code",
   "execution_count": null,
   "id": "decimal-freight",
   "metadata": {},
   "outputs": [],
   "source": [
    "idx = 0\n",
    "rules_list = []\n",
    "emptyv = np.zeros(unary_input.shape[3]*unary_input.shape[4]*3)\n",
    "\n",
    "for i in range(unary_input.shape[3]):\n",
    "    for j in range(unary_input.shape[4]):\n",
    "        if rule1[i,j]:\n",
    "            #First patch is in front of both\n",
    "            #negative term is in front of  positive term\n",
    "            update = [-1,0,1]\n",
    "            rules_list.append(emptyv.copy())\n",
    "            rules_list[-1][i*unary_input.shape[4]+j:i*unary_input.shape[4]+j+3] = update\n",
    "            update = [-1,1,0]\n",
    "            rules_list.append(emptyv.copy())\n",
    "            rules_list[-1][i*unary_input.shape[4]+j:i*unary_input.shape[4]+j+3] = update\n",
    "        elif rule2[i,j]:\n",
    "            update = [1,-1,0]\n",
    "            rules_list.append(emptyv.copy())\n",
    "            rules_list[-1][i*unary_input.shape[4]+j:i*unary_input.shape[4]+j+3] = update"
   ]
  },
  {
   "cell_type": "code",
   "execution_count": null,
   "id": "separate-junction",
   "metadata": {},
   "outputs": [],
   "source": [
    "test = np.asarray(rules_list)"
   ]
  },
  {
   "cell_type": "code",
   "execution_count": null,
   "id": "beneficial-juvenile",
   "metadata": {},
   "outputs": [],
   "source": [
    "print('test shape', test.shape)\n",
    "print('nonzero entries', np.count_nonzero(test))"
   ]
  },
  {
   "cell_type": "code",
   "execution_count": null,
   "id": "initial-egyptian",
   "metadata": {},
   "outputs": [],
   "source": [
    "emptyv.shape"
   ]
  },
  {
   "cell_type": "code",
   "execution_count": null,
   "id": "stunning-briefing",
   "metadata": {},
   "outputs": [],
   "source": [
    "test.shape\n",
    "\n",
    "plt.imshow(test)"
   ]
  },
  {
   "cell_type": "code",
   "execution_count": null,
   "id": "arctic-square",
   "metadata": {},
   "outputs": [],
   "source": [
    "# def generate_log_psi_mat(unary_input, stride):\n",
    "Ns = 1\n",
    "N_list = np.arange(-Ns,Ns+1)\n",
    "permutations = ang_permutations\n",
    "stride = 1\n",
    "log_psi_mat = torch.zeros(6,6,H_patches,W_patches,Ns*2+1,Ns*2+1)\n",
    "for i, hs in enumerate(N_list):\n",
    "    for j, vs in enumerate(N_list):\n",
    "        if [hs,vs] != [0,0]:\n",
    "            padarr = [0,0,0,0]\n",
    "            #This can be simplified somehow for sure \n",
    "            if hs>0:\n",
    "                Px = permutations[:,:,hs*stride:,:,:-hs,:]\n",
    "                shift_Px = permutations[:,:,:-hs*stride,:,hs:,:]\n",
    "                padarr[3] = hs\n",
    "            elif hs == 0:\n",
    "                Px = permutations\n",
    "                shift_Px = permutations\n",
    "                padarr[3] = hs\n",
    "            else:\n",
    "                Px = permutations[:,:,:hs*stride,:,-hs:,:] \n",
    "                shift_Px = permutations[:,:,-hs*stride:,:,:hs,:]\n",
    "                padarr[2] = -hs\n",
    "            if vs>0: \n",
    "                Py = Px[:,:,:,vs*stride:,:,:-vs]\n",
    "                shift_Py = shift_Px[:,:,:,:-vs*stride,:,vs:]\n",
    "                padarr[1] = vs\n",
    "            elif vs == 0: \n",
    "                Py = Px\n",
    "                shift_Py = shift_Px\n",
    "                padarr[1] = vs\n",
    "            else:\n",
    "                Py = Px[:,:,:,:vs*stride,:,-vs:] \n",
    "                shift_Py = shift_Px[:,:,:,-vs*stride:,:,:vs]\n",
    "                padarr[0] = -vs\n",
    "\n",
    "            t1 = func((shift_Py.unsqueeze(2)-Py.unsqueeze(1)).abs().sum(0).mean(2).mean(2));\n",
    "\n",
    "            log_psi_mat[...,i,j] = F.pad(t1,padarr)\n",
    "#     return log_psi_mat"
   ]
  },
  {
   "cell_type": "code",
   "execution_count": null,
   "id": "purple-daisy",
   "metadata": {},
   "outputs": [],
   "source": [
    "permutations = ang_permutations\n",
    "stride = 1\n",
    "log_psi_mat = torch.zeros(6,6,H_patches,W_patches,Ns*2+1,Ns*2+1)\n",
    "for i, hs in enumerate(N_list):\n",
    "    for j, vs in enumerate(N_list):\n",
    "        if [hs,vs] != [0,0]:\n",
    "            padarr = [0,0,0,0]\n",
    "            #This can be simplified somehow for sure \n",
    "\n",
    "            if hs>0:\n",
    "                Px = permutations[:,:,hs*stride:,:,:-hs,:]\n",
    "                shift_Px = permutations[:,:,:-hs*stride,:,hs:,:]\n",
    "                padarr[3] = hs\n",
    "            elif hs == 0:\n",
    "                Px = permutations\n",
    "                shift_Px = permutations\n",
    "                padarr[3] = hs\n",
    "            else:\n",
    "                Px = permutations[:,:,:hs*stride,:,-hs:,:] \n",
    "                shift_Px = permutations[:,:,-hs*stride:,:,:hs,:]\n",
    "                padarr[2] = -hs\n",
    "            if vs>0: \n",
    "                Py = Px[:,:,:,vs*stride:,:,:-vs]\n",
    "                shift_Py = shift_Px[:,:,:,:-vs*stride,:,vs:]\n",
    "                padarr[1] = vs\n",
    "            elif vs == 0: \n",
    "                Py = Px\n",
    "                shift_Py = shift_Px\n",
    "                padarr[1] = vs\n",
    "            else:\n",
    "                Py = Px[:,:,:,:vs*stride,:,-vs:] \n",
    "                shift_Py = shift_Px[:,:,:,-vs*stride:,:,:vs]\n",
    "                padarr[0] = -vs\n",
    "            \n",
    "            t1 = func((shift_Py.unsqueeze(2)-Py.unsqueeze(1)).abs().sum(0).mean(2).mean(2));\n",
    "            \n",
    "            log_psi_mat[...,i,j] = F.pad(t1,padarr)\n"
   ]
  },
  {
   "cell_type": "code",
   "execution_count": null,
   "id": "solid-excellence",
   "metadata": {},
   "outputs": [],
   "source": [
    "t1[:,:,0,0]"
   ]
  },
  {
   "cell_type": "code",
   "execution_count": null,
   "id": "operational-reality",
   "metadata": {},
   "outputs": [],
   "source": [
    "log_psi_mat[:,:,0,0,2,1]"
   ]
  },
  {
   "cell_type": "code",
   "execution_count": null,
   "id": "personalized-wellington",
   "metadata": {},
   "outputs": [],
   "source": [
    "horizontal_logpsi = func((permutations[:, :, :, stride:, :, :-1].unsqueeze(2) -\n",
    "                          permutations[:, :, :, :-stride, :, 1:].unsqueeze(1)).abs().sum(0).mean(2).mean(2))\n",
    "\n",
    "# vertical_logpsi[k, l, i, j] is the log psi function between the (i, j) and (i+1, j) patches evaluated at\n",
    "# the kth and lth permutation respectively.\n",
    "vertical_logpsi = func((permutations[:, :, stride:, :, :-1, :].unsqueeze(2) -\n",
    "                        permutations[:, :, :-stride, :, 1:, :].unsqueeze(1)).abs().sum(0).mean(2).mean(2))\n",
    "\n",
    "# Add padding to avoid having to deal with image boundaries\n",
    "horizontal_logpsi = torch.nn.functional.pad(horizontal_logpsi, pad=(1, 1, 1, 1))\n",
    "vertical_logpsi = torch.nn.functional.pad(vertical_logpsi, pad=(1, 1, 1, 1))\n",
    "\n",
    "\n",
    "# angle45_logpsi[k, l, i, j] is the log psi function between the (i, j) and (i+1, j+1) patches evaluated at\n",
    "# the kth and lth permutations respectively.\n",
    "angle45_logpsi = func((permutations[:, :, stride:, stride:, :-1, :-1].unsqueeze(2) -\n",
    "                        permutations[:, :, :-stride, :-stride, 1:, 1:].unsqueeze(1)).abs().sum(0).mean(2).mean(2))\n",
    "\n",
    "# angle135_logpsi[k, l, i, j] is the log psi function between the (i, j+1) and (i+1, j) patches evaluated at\n",
    "# the kth and lth permutations respectively. [Note: This is a shifted version of the match between (i, j) and (i+1, j-1).]\n",
    "angle135_logpsi = func((permutations[:, :, stride:, :-stride, :-1, 1:].unsqueeze(2) -\n",
    "                         permutations[:, :, :-stride, stride:, 1:, :-1].unsqueeze(1)).abs().sum(0).mean(2).mean(2))\n",
    "\n",
    "# Add padding to avoid having to deal with image boundaries\n",
    "angle45_logpsi = torch.nn.functional.pad(angle45_logpsi, pad=(1, 1, 1, 1))\n",
    "angle135_logpsi = torch.nn.functional.pad(angle135_logpsi, pad=(1, 1, 1, 1))\n"
   ]
  },
  {
   "cell_type": "code",
   "execution_count": null,
   "id": "egyptian-mustang",
   "metadata": {},
   "outputs": [],
   "source": [
    "horizontal_logpsi[:,:,1,1]"
   ]
  },
  {
   "cell_type": "code",
   "execution_count": null,
   "id": "surface-superintendent",
   "metadata": {},
   "outputs": [],
   "source": [
    "log_psi_mat.shape"
   ]
  },
  {
   "cell_type": "code",
   "execution_count": null,
   "id": "subject-concrete",
   "metadata": {},
   "outputs": [],
   "source": [
    "log_psi_mat[0,1,:,:,1,2]"
   ]
  },
  {
   "cell_type": "code",
   "execution_count": null,
   "id": "surrounded-method",
   "metadata": {},
   "outputs": [],
   "source": [
    "permutations[:, :, :, :-stride, :, 1:].shape"
   ]
  },
  {
   "cell_type": "code",
   "execution_count": null,
   "id": "maritime-house",
   "metadata": {
    "scrolled": true
   },
   "outputs": [],
   "source": []
  },
  {
   "cell_type": "code",
   "execution_count": null,
   "id": "increased-content",
   "metadata": {},
   "outputs": [],
   "source": [
    "# Left neighbor:   sum over permutations of the (i, j-1)th patch, i.e. dimension 0\n",
    "s = (lmbdas.unsqueeze(1)[:, :, 1:-1, :-2] * horizontal_logpsi[:, :, 1:-1, :-1]).sum(dim=0)\n",
    "# Right neighbor:  sum over permutations of the (i, j+1)th patch, i.e. dimension 1\n",
    "# s += (lmbdas.unsqueeze(0)[:, :, 1:-1, 2:] * horizontal_logpsi[:, :, 1:-1, 1:]).sum(dim=1)\n",
    "\n",
    "lmbdas.unsqueeze(1)[:, :, 1:-1, :-2].shape\n",
    "horizontal_logpsi[:, :, 1:-1, :-1].shape\n",
    "# (lmbdas.unsqueeze(1)[:, :, 1:-1, :-2] * horizontal_logpsi[:, :, 1:-1, :-1]).shape"
   ]
  },
  {
   "cell_type": "code",
   "execution_count": null,
   "id": "signed-animation",
   "metadata": {},
   "outputs": [],
   "source": [
    "lmbdas_mat = expand_lmbdas(lmbdas,Ns)\n",
    "s = (lmbdas1.unsqueeze(1)[:, :, 1:-1, :-2] * horizontal_logpsi[:, :, 1:-1, :-1])\n",
    "s2 = log_psi_mat*lmbdas_mat"
   ]
  },
  {
   "cell_type": "code",
   "execution_count": null,
   "id": "instructional-bennett",
   "metadata": {},
   "outputs": [],
   "source": [
    "s2[:,:,0,0,2,1]"
   ]
  },
  {
   "cell_type": "code",
   "execution_count": null,
   "id": "supposed-salmon",
   "metadata": {},
   "outputs": [],
   "source": [
    "s[:,:,1,1]"
   ]
  },
  {
   "cell_type": "code",
   "execution_count": null,
   "id": "raised-tower",
   "metadata": {},
   "outputs": [],
   "source": [
    "log_psi_mat[:,:,0,0,2,1]"
   ]
  },
  {
   "cell_type": "code",
   "execution_count": null,
   "id": "hungarian-deviation",
   "metadata": {},
   "outputs": [],
   "source": [
    "horizontal_logpsi[:,:,1,1]"
   ]
  },
  {
   "cell_type": "code",
   "execution_count": null,
   "id": "international-dictionary",
   "metadata": {},
   "outputs": [],
   "source": [
    "t1[:,:,1,0]"
   ]
  },
  {
   "cell_type": "code",
   "execution_count": null,
   "id": "dependent-vanilla",
   "metadata": {},
   "outputs": [],
   "source": [
    "t1 = (horizontal_logpsi[:, :, 1:-1, 1:])\n",
    "\n",
    "np.linalg.norm(t1-log_psi_mat[:,:,:,:,2,1])"
   ]
  },
  {
   "cell_type": "code",
   "execution_count": null,
   "id": "agreed-parking",
   "metadata": {},
   "outputs": [],
   "source": [
    "np.linalg.norm()"
   ]
  },
  {
   "cell_type": "code",
   "execution_count": null,
   "id": "dominant-columbus",
   "metadata": {},
   "outputs": [],
   "source": [
    "lmbdas1 = torch.ones((6, H_patches+2, W_patches+2), dtype=torch.float32).to(permutations.device) / 6.0\n",
    "(s.sum(dim=0))[:,1,1]"
   ]
  },
  {
   "cell_type": "code",
   "execution_count": null,
   "id": "recovered-brave",
   "metadata": {},
   "outputs": [],
   "source": [
    "(s2.sum(dim=0))[:,0,0,2,1]\n",
    "s2.shape"
   ]
  },
  {
   "cell_type": "code",
   "execution_count": null,
   "id": "desirable-player",
   "metadata": {},
   "outputs": [],
   "source": [
    "horizontal_logpsi[:, :, 1:-1, :-1].shape"
   ]
  },
  {
   "cell_type": "code",
   "execution_count": null,
   "id": "emerging-andorra",
   "metadata": {},
   "outputs": [],
   "source": [
    "lmbdas_mat[0,1,1,:,:]"
   ]
  },
  {
   "cell_type": "code",
   "execution_count": null,
   "id": "burning-value",
   "metadata": {},
   "outputs": [],
   "source": [
    "#Right Shift (for left neighbor?)\n",
    "plt.imshow(lmbdas1.unsqueeze(1)[:, :, 1:-1, :-2][0,0,:,:])\n",
    "plt.colorbar()"
   ]
  },
  {
   "cell_type": "code",
   "execution_count": null,
   "id": "vietnamese-rabbit",
   "metadata": {},
   "outputs": [],
   "source": [
    "hs = 1\n",
    "vs = 0\n",
    "padarr = [0,0,0,0]\n",
    "if vs>0:\n",
    "    lmbdasx = lmbdas[:,:-vs,:]\n",
    "    padarr[2] = vs\n",
    "elif vs == 0:\n",
    "    lmbdasx = lmbdas\n",
    "else:\n",
    "    lmbdasx = lmbdas[:,-vs:,:] \n",
    "    padarr[3] = -vs\n",
    "if hs>0: \n",
    "    lmbdasy = lmbdasx[:,:,:-hs]\n",
    "    padarr[0] = hs\n",
    "elif hs == 0:\n",
    "    lmbdasy = lmbdasx\n",
    "else:\n",
    "    lmbdasy = lmbdasx[:,:,-hs:] \n",
    "    padarr[1] = -hs"
   ]
  },
  {
   "cell_type": "code",
   "execution_count": null,
   "id": "exotic-moldova",
   "metadata": {},
   "outputs": [],
   "source": [
    "plt.imshow(F.pad(lmbdasy,padarr)[0,...])\n",
    "plt.colorbar()"
   ]
  },
  {
   "cell_type": "code",
   "execution_count": null,
   "id": "several-portal",
   "metadata": {},
   "outputs": [],
   "source": [
    "#DOWN\n",
    "plt.imshow(lmbdas1.unsqueeze(1)[:, :, :-2, 1:-1][0,0,:,:])"
   ]
  },
  {
   "cell_type": "code",
   "execution_count": null,
   "id": "functional-representation",
   "metadata": {},
   "outputs": [],
   "source": [
    "plt.imshow(lmbdas[:, 1:-1, :-2][0,:,:])"
   ]
  },
  {
   "cell_type": "code",
   "execution_count": null,
   "id": "black-prediction",
   "metadata": {},
   "outputs": [],
   "source": [
    "plt.imshow(horizontal_logpsi[:, :, 1:-1, :-1][0,0,:,:])"
   ]
  },
  {
   "cell_type": "code",
   "execution_count": null,
   "id": "available-actor",
   "metadata": {},
   "outputs": [],
   "source": [
    "plt.imshow(vertical_logpsi[:, :, :-1, 1:-1][0,0,:,:])"
   ]
  },
  {
   "cell_type": "code",
   "execution_count": null,
   "id": "wanted-superior",
   "metadata": {},
   "outputs": [],
   "source": [
    "horizontal_logpsi[:, :, 1:-1, :-1].shape"
   ]
  },
  {
   "cell_type": "code",
   "execution_count": null,
   "id": "progressive-documentary",
   "metadata": {},
   "outputs": [],
   "source": [
    "torch.linalg.norm(vertical_logpsi[:, :, :-1, 1:-1] - t2)"
   ]
  },
  {
   "cell_type": "code",
   "execution_count": null,
   "id": "maritime-dayton",
   "metadata": {},
   "outputs": [],
   "source": [
    "torch.linalg.norm(horizontal_logpsi[:, :, 1:-1, :-1]- t2)"
   ]
  },
  {
   "cell_type": "code",
   "execution_count": null,
   "id": "nutritional-error",
   "metadata": {},
   "outputs": [],
   "source": [
    "torch.linalg.norm(vertical_logpsi[:, :, :-1, 1:-1] - t2)"
   ]
  },
  {
   "cell_type": "code",
   "execution_count": null,
   "id": "technological-upgrade",
   "metadata": {},
   "outputs": [],
   "source": [
    "#Right Neighbor\n",
    "plt.imshow(horizontal_logpsi[:, :, 1:-1, 1:][0,0,:,:])\n",
    "torch.linalg.norm(horizontal_logpsi[:, :, 1:-1, 1:] -  t2)"
   ]
  },
  {
   "cell_type": "code",
   "execution_count": null,
   "id": "turned-documentation",
   "metadata": {},
   "outputs": [],
   "source": [
    "plt.imshow(sleft[0,:,:])"
   ]
  },
  {
   "cell_type": "code",
   "execution_count": null,
   "id": "competitive-moderator",
   "metadata": {},
   "outputs": [],
   "source": [
    "hs = 1\n",
    "vs = 0\n",
    "padarr = [0,0,0,0]\n",
    "if vs>0:\n",
    "    Px = permutations[:,:,vs*stride:,:,:-vs,:]\n",
    "    shift_Px = permutations[:,:,:-vs*stride,:,vs:,:]\n",
    "    padarr[3] = vs\n",
    "elif vs == 0:\n",
    "    Px = permutations\n",
    "    shift_Px = permutations\n",
    "    padarr[3] = vs\n",
    "else:\n",
    "    Px = permutations[:,:,:vs*stride,:,-vs:,:] \n",
    "    shift_Px = permutations[:,:,-vs*stride:,:,:vs,:]\n",
    "    padarr[2] = -vs\n",
    "if hs>0: \n",
    "    Py = Px[:,:,:,hs*stride:,:,:-hs]\n",
    "    shift_Py = shift_Px[:,:,:,:-hs*stride,:,hs:]\n",
    "    padarr[0] = hs\n",
    "elif hs == 0: \n",
    "    Py = Px\n",
    "    shift_Py = shift_Px\n",
    "    padarr[1] = hs\n",
    "else:\n",
    "    Py = Px[:,:,:,:hs*stride,:,-hs:] \n",
    "    shift_Py = shift_Px[:,:,:,-hs*stride:,:,:hs]\n",
    "    padarr[1] = -hs\n",
    "\n",
    "t1 = func((shift_Py.unsqueeze(1)-Py.unsqueeze(2)).abs().sum(0).mean(2).mean(2));\n",
    "t2 = F.pad(t1,padarr)\n",
    "\n",
    "plt.imshow(t2[0,0,...])"
   ]
  },
  {
   "cell_type": "code",
   "execution_count": null,
   "id": "sufficient-sucking",
   "metadata": {},
   "outputs": [],
   "source": [
    "plt.imshow(log_psi_mat[0,0,:,:,2,1])\n",
    "print(hs,vs)"
   ]
  },
  {
   "cell_type": "code",
   "execution_count": null,
   "id": "banner-sauce",
   "metadata": {},
   "outputs": [],
   "source": []
  },
  {
   "cell_type": "code",
   "execution_count": null,
   "id": "german-psychiatry",
   "metadata": {},
   "outputs": [],
   "source": [
    "plt.imshow(sleft[0,...])\n",
    "plt.colorbar()"
   ]
  },
  {
   "cell_type": "code",
   "execution_count": null,
   "id": "cheap-gothic",
   "metadata": {},
   "outputs": [],
   "source": [
    "hs = 1\n",
    "vs = 0\n",
    "plt.imshow((log_psi_mat*lmbdas_mat).sum(0)[0,:,:,hs,vs])\n",
    "plt.colorbar()"
   ]
  },
  {
   "cell_type": "code",
   "execution_count": null,
   "id": "identified-badge",
   "metadata": {},
   "outputs": [],
   "source": [
    "permutations[:,:,vs*stride:,:,:-vs,:].shape"
   ]
  },
  {
   "cell_type": "code",
   "execution_count": null,
   "id": "prostate-springfield",
   "metadata": {},
   "outputs": [],
   "source": [
    "permutations[:, :, :, stride:, :, :-1].shape"
   ]
  },
  {
   "cell_type": "code",
   "execution_count": null,
   "id": "parallel-junction",
   "metadata": {},
   "outputs": [],
   "source": [
    "lmbdas.shape"
   ]
  },
  {
   "cell_type": "code",
   "execution_count": null,
   "id": "beneficial-thailand",
   "metadata": {},
   "outputs": [],
   "source": [
    "def expand_lmbdas(lmbdas,Ns):\n",
    "    lmbdas_mat = torch.zeros(6,H_patches, W_patches,Ns*2+1,Ns*2+1)\n",
    "    N_list = np.arange(-Ns,Ns+1)\n",
    "    for i, hs in enumerate(N_list):\n",
    "        for j, vs in enumerate(N_list):\n",
    "            if [vs,hs] is not [0,0]:\n",
    "                padarr = [0,0,0,0]\n",
    "                if vs>0:\n",
    "                    lmbdasx = lmbdas[:,:-vs,:]\n",
    "                    padarr[2] = vs\n",
    "                elif vs == 0:\n",
    "                    lmbdasx = lmbdas\n",
    "                else:\n",
    "                    lmbdasx = lmbdas[:,-vs:,:] \n",
    "                    padarr[3] = -vs\n",
    "                if hs>0: \n",
    "                    lmbdasy = lmbdasx[:,:,:-hs]\n",
    "                    padarr[0] = hs\n",
    "                elif hs == 0:\n",
    "                    lmbdasy = lmbdasx\n",
    "                else:\n",
    "                    lmbdasy = lmbdasx[:,:,-hs:] \n",
    "                    padarr[1] = -hs\n",
    "#                 print(hs,vs,F.pad(lmbdasy,padarr).shape)\n",
    "                lmbdas_mat[...,i,j] = F.pad(lmbdasy,padarr)\n",
    "    return lmbdas_mat"
   ]
  },
  {
   "cell_type": "code",
   "execution_count": null,
   "id": "responsible-surfing",
   "metadata": {},
   "outputs": [],
   "source": [
    "plt.imshow(horizontal_logpsi[:, :, 1:-1, :-1][0,0,:,:])"
   ]
  },
  {
   "cell_type": "code",
   "execution_count": null,
   "id": "fifty-settlement",
   "metadata": {},
   "outputs": [],
   "source": [
    "plt.imshow((lmbdas1.unsqueeze(1)[:, :, 1:-1, :-2] * horizontal_logpsi[:, :, 1:-1, :-1]).sum(dim=0)[0,...])"
   ]
  },
  {
   "cell_type": "code",
   "execution_count": null,
   "id": "ambient-virgin",
   "metadata": {},
   "outputs": [],
   "source": [
    "horizontal_logpsi[:, :, 1:-1, 1:]"
   ]
  },
  {
   "cell_type": "markdown",
   "id": "excellent-function",
   "metadata": {},
   "source": [
    "## Experiments on Left Shift"
   ]
  },
  {
   "cell_type": "code",
   "execution_count": null,
   "id": "separate-grave",
   "metadata": {},
   "outputs": [],
   "source": [
    "plt.subplot(121)\n",
    "lmbdas_mat = expand_lmbdas(lmbdas,Ns)\n",
    "plt.imshow(lmbdas1.unsqueeze(1)[:, :, 1:-1, :-2][0,0,...])\n",
    "plt.title('Orginal left lambda ')\n",
    "plt.subplot(122)\n",
    "plt.imshow(lmbdas_mat[0,:,:,2,1])\n",
    "plt.title('expanded left lambda')\n",
    "\n",
    "print(\"Lambda Diff = \", np.linalg.norm(lmbdas1.unsqueeze(1)[:, :, 1:-1, :-2] - lmbdas_mat[...,2,1]))\n"
   ]
  },
  {
   "cell_type": "code",
   "execution_count": null,
   "id": "imperial-excerpt",
   "metadata": {},
   "outputs": [],
   "source": [
    "for i in range(6):\n",
    "    for j in range(6):\n",
    "        print(i,j,\"Log_Psi Diff = \", np.linalg.norm(horizontal_logpsi[:, :, 1:-1, :-1][i,j,...] - log_psi_mat[j,i,:,:,2,1]))"
   ]
  },
  {
   "cell_type": "code",
   "execution_count": null,
   "id": "arabic-exemption",
   "metadata": {},
   "outputs": [],
   "source": [
    "plt.subplot(121)\n",
    "plt.imshow(horizontal_logpsi[:, :, 1:-1, :-1][0,0,...])\n",
    "plt.title('Orginal left log_psi ')\n",
    "plt.subplot(122)\n",
    "plt.imshow(log_psi_mat[0,0,:,:,2,1])\n",
    "plt.title('expanded left log_psi')\n",
    "\n",
    "print(\"Log_Psi Diff = \", np.linalg.norm(horizontal_logpsi[:, :, 1:-1, :-1] - log_psi_mat[...,2,1]))"
   ]
  },
  {
   "cell_type": "code",
   "execution_count": null,
   "id": "swiss-turner",
   "metadata": {},
   "outputs": [],
   "source": [
    "plt.subplot(121)\n",
    "osv = (lmbdas1.unsqueeze(1)[:, :, 1:-1, :-2] * horizontal_logpsi[:, :, 1:-1, :-1]).sum(dim=0)\n",
    "plt.imshow(osv[0,...])\n",
    "# plt.colorbar()\n",
    "plt.title('Orginal left s_value ')\n",
    "plt.subplot(122)\n",
    "esv = (log_psi_mat*lmbdas_mat.unsqueeze(1)).sum(0)\n",
    "plt.imshow(esv[0,...,2,1])\n",
    "plt.title('expanded left s_value')\n",
    "# plt.colorbar()"
   ]
  },
  {
   "cell_type": "code",
   "execution_count": null,
   "id": "laughing-career",
   "metadata": {},
   "outputs": [],
   "source": [
    "print(\"Difference between original and expanded left s\", torch.linalg.norm(osv-esv[...,2,1]))"
   ]
  },
  {
   "cell_type": "markdown",
   "id": "quarterly-thumbnail",
   "metadata": {},
   "source": [
    "## Experiments on Right Shift"
   ]
  },
  {
   "cell_type": "code",
   "execution_count": null,
   "id": "dependent-wages",
   "metadata": {},
   "outputs": [],
   "source": [
    "plt.subplot(121)\n",
    "lmbdas_mat = expand_lmbdas(lmbdas,Ns)\n",
    "plt.imshow(lmbdas1.unsqueeze(0)[:, :, 1:-1, 2:][0,0,...])\n",
    "plt.title('Orginal right lambda ')\n",
    "plt.subplot(122)\n",
    "plt.imshow(lmbdas_mat[0,:,:,0,1])\n",
    "plt.title('expanded right lambda')\n",
    "\n",
    "print(\"Lambda Diff = \", np.linalg.norm(lmbdas1.unsqueeze(0)[:, :, 1:-1, 2:][0,0,...] - lmbdas_mat[0,:,:,0,1]))\n"
   ]
  },
  {
   "cell_type": "code",
   "execution_count": null,
   "id": "serious-delhi",
   "metadata": {},
   "outputs": [],
   "source": [
    "log_psi_mat.shape"
   ]
  },
  {
   "cell_type": "code",
   "execution_count": null,
   "id": "flexible-liberty",
   "metadata": {},
   "outputs": [],
   "source": [
    "for i in range(6):\n",
    "    for j in range(6):\n",
    "#         plt.figure()\n",
    "#         plt.subplot(121)\n",
    "#         plt.imshow(horizontal_logpsi[:, :, 1:-1, 1:][i,j,...])\n",
    "#         plt.title('Orginal right log_psi ')\n",
    "#         plt.subplot(122)\n",
    "#         plt.imshow(log_psi_mat[i,j,:,:,0,1])\n",
    "#         plt.title(f'{i,j} expanded right log_psi')\n",
    "\n",
    "        print(i,j,\"Log_Psi Diff = \", np.linalg.norm(horizontal_logpsi[:, :, 1:-1, 1:][i,j,...] - log_psi_mat[j,i,:,:,0,1]))"
   ]
  },
  {
   "cell_type": "code",
   "execution_count": null,
   "id": "controlled-beaver",
   "metadata": {},
   "outputs": [],
   "source": [
    "padarr = [0,0,0,0]\n",
    "if vs>0:\n",
    "    Px = permutations[:,:,vs*stride:,:,:-vs,:]\n",
    "    shift_Px = permutations[:,:,:-vs*stride,:,vs:,:]\n",
    "    padarr[3] = vs\n",
    "elif vs == 0:\n",
    "    Px = permutations\n",
    "    shift_Px = permutations\n",
    "else:\n",
    "    Px = permutations[:,:,:vs*stride,:,-vs:,:] \n",
    "    shift_Px = permutations[:,:,-vs*stride:,:,:vs,:]\n",
    "    padarr[2] = -vs\n",
    "if hs>0: \n",
    "    Py =             Px[:,:,:,hs*stride:,:,:-hs]\n",
    "    shift_Py = shift_Px[:,:,:,:-hs*stride,:,hs:]\n",
    "    padarr[0] = hs\n",
    "elif hs == 0: \n",
    "    Py = Px\n",
    "    shift_Py = shift_Px\n",
    "else:\n",
    "    Py = Px[:,:,:,:hs*stride,:,-hs:] \n",
    "    shift_Py = shift_Px[:,:,:,-hs*stride:,:,:hs]\n",
    "    padarr[1] = -hs\n",
    "\n",
    "t1 = func((Py.unsqueeze(2)-shift_Py.unsqueeze(1)).abs().sum(0).mean(2).mean(2));\n",
    "t2 = F.pad(t1,padarr)"
   ]
  },
  {
   "cell_type": "code",
   "execution_count": null,
   "id": "floppy-syria",
   "metadata": {},
   "outputs": [],
   "source": [
    "Py.shape"
   ]
  },
  {
   "cell_type": "code",
   "execution_count": null,
   "id": "historical-closing",
   "metadata": {},
   "outputs": [],
   "source": [
    "hs = 1\n",
    "vs = 1\n",
    "Px = permutations[:,:,vs*stride:,:,:-vs,:]\n",
    "shift_Px = permutations[:,:,:-vs*stride,:,vs:,:]\n",
    "Py =             Px[:,:,:,:-hs*stride,:,hs:]\n",
    "shift_Py = shift_Px[:,:,:,hs*stride:,:,:-hs]\n",
    "\n",
    "plt.subplot(121)\n",
    "plt.imshow(permutations[:, :, stride:, :-stride, :-1, 1:][0,0,0,0,:,:])\n",
    "plt.title(\"Up right shift\")\n",
    "plt.subplot(122)\n",
    "plt.imshow(Py[0,0,0,0,:,:])\n",
    "plt.title(\"Test Shift\")"
   ]
  },
  {
   "cell_type": "markdown",
   "id": "explicit-founder",
   "metadata": {},
   "source": [
    "## BL Shift"
   ]
  },
  {
   "cell_type": "code",
   "execution_count": null,
   "id": "wicked-tunnel",
   "metadata": {},
   "outputs": [],
   "source": [
    "for i in range(6):\n",
    "    for j in range(6):\n",
    "        plt.figure()\n",
    "        plt.subplot(121)\n",
    "        plt.imshow(angle135_logpsi[:, :, 1:, :-1][i,j,...])\n",
    "        plt.title('Orginal right log_psi ')\n",
    "        plt.subplot(122)\n",
    "        plt.imshow(log_psi_mat[i,j,:,:,2,2])\n",
    "        plt.title(f'{i,j} expanded right log_psi')\n",
    "        print(i,j,\"Log_Psi Diff = \", np.linalg.norm(angle135_logpsi[:, :, 1:, :-1][i,j,...] - log_psi_mat[i,j,:,:,2,2]))"
   ]
  },
  {
   "cell_type": "markdown",
   "id": "particular-honey",
   "metadata": {},
   "source": [
    "## BR Shift"
   ]
  },
  {
   "cell_type": "code",
   "execution_count": null,
   "id": "fifteen-seller",
   "metadata": {},
   "outputs": [],
   "source": [
    "angle45_logpsi.shape"
   ]
  },
  {
   "cell_type": "code",
   "execution_count": null,
   "id": "adjusted-advertiser",
   "metadata": {},
   "outputs": [],
   "source": [
    "hs = 1\n",
    "vs = -1\n",
    "\n",
    "Px = permutations[:,:,-vs*stride:,:,:vs,:]\n",
    "shift_Px = permutations[:,:,-vs*stride:,:,:vs,:]\n",
    "Py =             Px[:,:,:,:-hs*stride,:,hs:]\n",
    "shift_Py = shift_Px[:,:,:,hs*stride:,:,:-hs]\n",
    "\n",
    "# for i in range(6):\n",
    "#     for j in range(6):\n",
    "plt.figure()\n",
    "plt.subplot(121)\n",
    "plt.imshow(permutations[:, :, stride:, stride:, :-1, :-1][0,0,0,0,:,:])\n",
    "plt.title('Orginal right log_psi ')\n",
    "plt.subplot(122)\n",
    "plt.imshow(Py[0,0,0,0,:,:])\n",
    "#         plt.title(f'{i,j} expanded right log_psi')\n",
    "#         print(i,j,\"Log_Psi Diff = \", np.linalg.norm(angle45_logpsi[:, :, 1:, 1:][i,j,...] - log_psi_mat[i,j,:,:,0,2]))"
   ]
  },
  {
   "cell_type": "code",
   "execution_count": null,
   "id": "valued-saver",
   "metadata": {},
   "outputs": [],
   "source": []
  },
  {
   "cell_type": "code",
   "execution_count": null,
   "id": "covered-homework",
   "metadata": {},
   "outputs": [],
   "source": []
  },
  {
   "cell_type": "code",
   "execution_count": null,
   "id": "present-payment",
   "metadata": {
    "collapsed": true
   },
   "outputs": [],
   "source": [
    "horizontal_logpsi[:, :, 1:-1, 1:].shape"
   ]
  },
  {
   "cell_type": "code",
   "execution_count": null,
   "id": "widespread-onion",
   "metadata": {},
   "outputs": [],
   "source": [
    "plt.subplot(121)\n",
    "osv = (lmbdas1.unsqueeze(0)[:, :, 1:-1, 2:] * horizontal_logpsi[:, :, 1:-1, 1:]).sum(dim=1)\n",
    "plt.imshow(osv[0,...])\n",
    "# plt.colorbar()\n",
    "plt.title('Orginal Right s_value ')\n",
    "plt.subplot(122)\n",
    "esv = (log_psi_mat*lmbdas_mat.unsqueeze(1)).sum(0)\n",
    "plt.imshow(esv[0,...,0,1])\n",
    "plt.title('expanded left s_value');"
   ]
  },
  {
   "cell_type": "code",
   "execution_count": null,
   "id": "useful-begin",
   "metadata": {},
   "outputs": [],
   "source": [
    "print(\"Difference between original and expanded right s\", torch.linalg.norm(osv-esv[...,0,1]))"
   ]
  },
  {
   "cell_type": "code",
   "execution_count": null,
   "id": "tutorial-violin",
   "metadata": {},
   "outputs": [],
   "source": [
    "print(\"Original lambda shape\", lmbdas1.unsqueeze(1)[:, :, 1:-1, :-2].shape)\n",
    "print(\"Original logpsi shape\", horizontal_logpsi[:, :, 1:-1, :-1].shape)\n",
    "print(\"expanded lambda shape\", lmbdas_mat[...,2,1].shape)\n",
    "print(\"expanded logpsi shape\", log_psi_mat[...,2,1].shape)"
   ]
  },
  {
   "cell_type": "code",
   "execution_count": null,
   "id": "numerical-giant",
   "metadata": {},
   "outputs": [],
   "source": [
    "log_psi_mat.shape"
   ]
  },
  {
   "cell_type": "markdown",
   "id": "meaning-mercury",
   "metadata": {},
   "source": [
    "## Up Shift"
   ]
  },
  {
   "cell_type": "code",
   "execution_count": null,
   "id": "english-vinyl",
   "metadata": {},
   "outputs": [],
   "source": [
    "for i in range(6):\n",
    "    for j in range(6):\n",
    "        print(i,j,\"Log_Psi Diff = \", np.linalg.norm(vertical_logpsi[:, :, :-1, 1:-1][i,j,...] - log_psi_mat[i,j,:,:,1,0]))"
   ]
  },
  {
   "cell_type": "markdown",
   "id": "strategic-store",
   "metadata": {},
   "source": [
    "## Down Shift"
   ]
  },
  {
   "cell_type": "code",
   "execution_count": null,
   "id": "eight-vancouver",
   "metadata": {},
   "outputs": [],
   "source": [
    "for i in range(6):\n",
    "    for j in range(6):\n",
    "        print(i,j,\"Log_Psi Diff = \", np.linalg.norm(vertical_logpsi[:, :, 1:, 1:-1][i,j,...] - log_psi_mat[i,j,:,:,1,2]))"
   ]
  },
  {
   "cell_type": "code",
   "execution_count": null,
   "id": "injured-baghdad",
   "metadata": {},
   "outputs": [],
   "source": [
    "permutations.shape"
   ]
  },
  {
   "cell_type": "code",
   "execution_count": null,
   "id": "certain-charm",
   "metadata": {},
   "outputs": [],
   "source": [
    "lmbdas_mat = expand_lmbdas(lmbdas,Ns)\n",
    "plt.imshow((log_psi_mat*lmbdas_mat).sum(0)[0,...,2,1])"
   ]
  },
  {
   "cell_type": "code",
   "execution_count": null,
   "id": "steady-journalist",
   "metadata": {},
   "outputs": [],
   "source": [
    "lmbdas_mat.shape"
   ]
  },
  {
   "cell_type": "code",
   "execution_count": null,
   "id": "possible-idaho",
   "metadata": {},
   "outputs": [],
   "source": [
    "plt.imshow(lmbdas_mat[0,:,:,2,1])"
   ]
  },
  {
   "cell_type": "code",
   "execution_count": null,
   "id": "british-traffic",
   "metadata": {},
   "outputs": [],
   "source": [
    "plt.imshow((log_psi_mat*lmbdas_mat).sum(0)[0,:,:,2,1])"
   ]
  },
  {
   "cell_type": "code",
   "execution_count": null,
   "id": "federal-alabama",
   "metadata": {},
   "outputs": [],
   "source": [
    "plt.imshow(lmbdas1.unsqueeze(1)[:, :, 1:-1, :-2][0,0,:,:])"
   ]
  },
  {
   "cell_type": "code",
   "execution_count": null,
   "id": "empirical-documentary",
   "metadata": {},
   "outputs": [],
   "source": [
    "def func(x):\n",
    "    return x"
   ]
  },
  {
   "cell_type": "code",
   "execution_count": null,
   "id": "vertical-indianapolis",
   "metadata": {},
   "outputs": [],
   "source": [
    "lmbdas1 = torch.ones((6, H_patches+2, W_patches+2), dtype=torch.float32).to(permutations.device) / 6.0\n",
    "lmbdas = torch.ones((6, H_patches, W_patches), dtype=torch.float32).to(permutations.device) / 6.0\n",
    "horizontal_logpsi = func((permutations[:, :, :, stride:, :, :-1].unsqueeze(2) -\n",
    "                              permutations[:, :, :, :-stride, :, 1:].unsqueeze(1)).abs().sum(0).mean(2).mean(2))\n",
    "\n",
    "# vertical_logpsi[k, l, i, j] is the log psi function between the (i, j) and (i+1, j) patches evaluated at\n",
    "# the kth and lth permutation respectively.\n",
    "vertical_logpsi = func((permutations[:, :, stride:, :, :-1, :].unsqueeze(2) -\n",
    "                        permutations[:, :, :-stride, :, 1:, :].unsqueeze(1)).abs().sum(0).mean(2).mean(2))\n",
    "\n",
    "# Add padding to avoid having to deal with image boundaries\n",
    "horizontal_logpsi = torch.nn.functional.pad(horizontal_logpsi, pad=(1, 1, 1, 1))\n",
    "vertical_logpsi = torch.nn.functional.pad(vertical_logpsi, pad=(1, 1, 1, 1))\n",
    "\n",
    "# angle45_logpsi[k, l, i, j] is the log psi function between the (i, j) and (i+1, j+1) patches evaluated at\n",
    "# the kth and lth permutations respectively.\n",
    "angle45_logpsi = func((permutations[:, :, stride:, stride:, :-1, :-1].unsqueeze(2) -\n",
    "                        permutations[:, :, :-stride, :-stride, 1:, 1:].unsqueeze(1)).abs().sum(0).mean(2).mean(\n",
    "    2))\n",
    "\n",
    "# angle135_logpsi[k, l, i, j] is the log psi function between the (i, j+1) and (i+1, j) patches evaluated at\n",
    "# the kth and lth permutations respectively. [Note: This is a shifted version of the match between (i, j) and (i+1, j-1).]\n",
    "angle135_logpsi = func((permutations[:, :, stride:, :-stride, :-1, 1:].unsqueeze(2) -\n",
    "                         permutations[:, :, :-stride, stride:, 1:, :-1].unsqueeze(1)).abs().sum(0).mean(2).mean(\n",
    "    2))\n",
    "\n",
    "# Add padding to avoid having to deal with image boundaries\n",
    "angle45_logpsi = torch.nn.functional.pad(angle45_logpsi, pad=(1, 1, 1, 1))\n",
    "angle135_logpsi = torch.nn.functional.pad(angle135_logpsi, pad=(1, 1, 1, 1))\n",
    "\n",
    "\n",
    "log_psi_mat = torch.zeros(6,6,H_patches,W_patches,Ns*2+1,Ns*2+1)\n",
    "for i, hs in enumerate(N_list):\n",
    "    for j, vs in enumerate(N_list):\n",
    "        if [hs,vs] != [0,0]:\n",
    "            padarr = [0,0,0,0]\n",
    "            if vs>0:\n",
    "                Px = permutations[:,:,:-vs*stride,:,vs:,:]\n",
    "                shift_Px = permutations[:,:,vs*stride:,:,:-vs,:]\n",
    "                padarr[3] = vs\n",
    "            elif vs == 0:\n",
    "                Px = permutations\n",
    "                shift_Px = permutations\n",
    "                padarr[3] = vs\n",
    "            else:\n",
    "                Px = permutations[:,:,:vs*stride,:,-vs:,:]\n",
    "                shift_Px = permutations[:,:,-vs*stride:,:,:vs,:] \n",
    "                padarr[2] = -vs\n",
    "            if hs>0: \n",
    "                Py =             Px[:,:,:,:-hs*stride,:,hs:]\n",
    "                shift_Py = shift_Px[:,:,:,hs*stride:,:,:-hs]\n",
    "                padarr[0] = hs\n",
    "            elif hs == 0: \n",
    "                Py = Px\n",
    "                shift_Py = shift_Px\n",
    "                padarr[1] = hs\n",
    "            else:\n",
    "                Py = Px[:,:,:,:hs*stride,:,-hs:] \n",
    "                shift_Py = shift_Px[:,:,:,-hs*stride:,:,:hs]\n",
    "                padarr[1] = -hs\n",
    "\n",
    "            t1 = func((-Py.unsqueeze(1)+shift_Py.unsqueeze(2)).abs().sum(0).mean(2).mean(2));\n",
    "            t2 = F.pad(t1,padarr)\n",
    "\n",
    "#             t1 = func((shift_Py.unsqueeze(2)-Py.unsqueeze(1)).abs().sum(0).mean(2).mean(2));\n",
    "            \n",
    "            log_psi_mat[...,i,j] = F.pad(t1,padarr)\n",
    "\n",
    "            \n",
    "            \n",
    "# Set all distributions to uniform except seed which is set to [1, 0, 0, 0, 0, 0].\n",
    "lmbdas1 = torch.zeros((6, H_patches + 2, W_patches + 2), dtype=torch.float32).to(permutations.device) / 6.0\n",
    "\n",
    "for t in range(100):\n",
    "    lmbdas = torch.rand(lmbdas1[:, 1:-1, 1:-1].shape)\n",
    "    lmbdas /= lmbdas.sum(dim=0, keepdim=True)\n",
    "    lmbdas1[:, 1:-1, 1:-1] = lmbdas\n",
    "#     lmbdas1 /= lmbdas1.sum(dim=0, keepdim=True)\n",
    "    \n",
    "    # Left neighbor:   sum over permutations of the (i, j-1)th patch, i.e. dimension 0\n",
    "    sleft = (lmbdas1.unsqueeze(1)[:, :, 1:-1, :-2] * horizontal_logpsi[:, :, 1:-1, :-1]).sum(dim=0)\n",
    "    s= sleft\n",
    "    # Right neighbor:  sum over permutations of the (i, j+1)th patch, i.e. dimension 1\n",
    "    sright = (lmbdas1.unsqueeze(0)[:, :, 1:-1, 2:] * horizontal_logpsi[:, :, 1:-1, 1:]).sum(dim=1)\n",
    "    s+=sright\n",
    "    # Top neighbor:    sum over permutations of the (i-1, j)th patch, i.e. dimension 0\n",
    "    stop = (lmbdas1.unsqueeze(1)[:, :, :-2, 1:-1] * vertical_logpsi[:, :, :-1, 1:-1]).sum(dim=0)\n",
    "    s+=stop\n",
    "    # Bottom neighbor: sum over permutations of the (i+1, j)th patch, i.e. dimension 1\n",
    "    sbot = (lmbdas1.unsqueeze(0)[:, :, 2:, 1:-1] * vertical_logpsi[:, :, 1:, 1:-1]).sum(dim=1)\n",
    "    s+=sbot\n",
    "\n",
    "    # TL neighbor: sum over permutations of the (i-1, j-1)th patch, i.e. dimension 0\n",
    "    stl = (lmbdas1.unsqueeze(1)[:, :, :-2, :-2] * angle45_logpsi[:, :, :-1, :-1]).sum(dim=0)\n",
    "    s+=stl\n",
    "    # BR neighbor: sum over permutations of the (i+1, j+1)th patch, i.e. dimension 1\n",
    "    sbr = (lmbdas1.unsqueeze(0)[:, :, 2:, 2:] * angle45_logpsi[:, :, 1:, 1:]).sum(dim=1)\n",
    "    s+=sbr\n",
    "    # TR neighbor: sum over permutations of the (i-1, j+1)th patch, i.e. dimension 0\n",
    "    stopr = (lmbdas1.unsqueeze(1)[:, :, :-2, 2:] * angle135_logpsi[:, :, :-1, 1:]).sum(dim=0)\n",
    "    s+=stopr\n",
    "    # BL neighbor: sum over permutations of the (i+1, j-1)th patch, i.e. dimension 1\n",
    "    sbl = (lmbdas1.unsqueeze(0)[:, :, 2:, :-2] * angle135_logpsi[:, :, 1:, :-1]).sum(dim=1)\n",
    "    s+=sbl\n",
    "\n",
    "    # Update parameters according to CAVI update\n",
    "    lmbdas1[:, 1:-1, 1:-1] = torch.exp(s)\n",
    "\n",
    "\n",
    "    # Normalize and reset top-left distribution\n",
    "#     lmbdas1 /= lmbdas1.sum(dim=0, keepdim=True)\n",
    "    lmbdas1[:, 1:-1, 1:-1] /= lmbdas1[:, 1:-1, 1:-1].sum(dim=0, keepdim=True)\n",
    "    \n",
    "    lmbdas_mat = expand_lmbdas(lmbdas,Ns)\n",
    "    s2 = (log_psi_mat*lmbdas_mat.unsqueeze(1)).sum(0).sum(3).sum(3)\n",
    "    lmbdas = torch.exp(s2)\n",
    "    lmbdas /= lmbdas.sum(dim=0,keepdim=True)\n",
    "    \n",
    "\n",
    "    if (t%1 == 0):\n",
    "        print('iter:',t,'diff:', torch.linalg.norm(s-s2))\n",
    "        print('norm s: ', torch.linalg.norm(s), 'norm s2: ', torch.linalg.norm(s2))\n",
    "        print('Second diff', torch.linalg.norm(lmbdas1[:, 1:-1, 1:-1] - lmbdas))\n",
    "\n",
    "    #Random test\n",
    "    lmbdas1[:, 1:-1, 1:-1] = lmbdas\n",
    "    sleft = (lmbdas1.unsqueeze(1)[:, :, 1:-1, :-2] * horizontal_logpsi[:, :, 1:-1, :-1]).sum(dim=0)\n",
    "    sright = (lmbdas1.unsqueeze(0)[:, :, 1:-1, 2:] * horizontal_logpsi[:, :, 1:-1, 1:]).sum(dim=1)"
   ]
  },
  {
   "cell_type": "code",
   "execution_count": null,
   "id": "medium-victory",
   "metadata": {},
   "outputs": [],
   "source": [
    "s2.shape"
   ]
  },
  {
   "cell_type": "code",
   "execution_count": null,
   "id": "outside-appendix",
   "metadata": {},
   "outputs": [],
   "source": [
    "# sleft = (lmbdas1.unsqueeze(0)[:, :, 1:-1, 2:] * horizontal_logpsi[:, :, 1:-1, 1:]).sum(dim=1)\n",
    "# sright[:,0,0]+stopr[:,0,0]+sbr[:,0,0]\n",
    "# sbot[:,0,0]+stop[:,0,0]\n",
    "sleft[:,0,0]+sl"
   ]
  },
  {
   "cell_type": "code",
   "execution_count": null,
   "id": "digital-objective",
   "metadata": {},
   "outputs": [],
   "source": [
    "(s2.sum(dim=0).sum(dim=3).sum(dim=3))[:,0,0,...]"
   ]
  },
  {
   "cell_type": "code",
   "execution_count": null,
   "id": "generic-grove",
   "metadata": {},
   "outputs": [],
   "source": [
    "out1[:,2,2]"
   ]
  },
  {
   "cell_type": "code",
   "execution_count": null,
   "id": "better-graphics",
   "metadata": {},
   "outputs": [],
   "source": [
    "s2 = log_psi_mat*lmbdas_mat\n",
    "out2 = s2.sum(0).sum(3).sum(3)\n",
    "out2[:,2,2]"
   ]
  },
  {
   "cell_type": "code",
   "execution_count": null,
   "id": "united-negative",
   "metadata": {},
   "outputs": [],
   "source": [
    "torch.norm(out1-out2,1)"
   ]
  },
  {
   "cell_type": "code",
   "execution_count": null,
   "id": "parental-sodium",
   "metadata": {},
   "outputs": [],
   "source": [
    "(lmbdas1.unsqueeze(0)[:, :, 1:-1, 2:] * horizontal_logpsi[:, :, 1:-1, 1:]).shape"
   ]
  },
  {
   "cell_type": "markdown",
   "id": "bibliographic-oliver",
   "metadata": {},
   "source": [
    "## Experiments on wedge overlap"
   ]
  },
  {
   "cell_type": "code",
   "execution_count": null,
   "id": "experienced-johns",
   "metadata": {},
   "outputs": [],
   "source": [
    "permutations = ang_permutations\n",
    "no_perms = permutations[:,0,...]\n",
    "Ns = 3\n",
    "N_list = np.arange(-Ns,Ns+1)\n",
    "stride = opts.stride\n",
    "log_psi_mat = torch.zeros(3,3,H_patches,W_patches,Ns*2+1,Ns*2+1)\n",
    "for i, hs in enumerate(N_list):\n",
    "    for j, vs in enumerate(N_list):\n",
    "        if [hs,vs] != [0,0]:\n",
    "            padarr = [0,0,0,0]\n",
    "            if vs>0:\n",
    "                Px = no_perms[:,vs*stride:,:,:-vs,:]\n",
    "                shift_Px = no_perms[:,:-vs*stride,:,vs:,:]\n",
    "                padarr[3] = vs\n",
    "            elif vs == 0:\n",
    "                Px = no_perms\n",
    "                shift_Px = no_perms\n",
    "                padarr[3] = vs\n",
    "            else:\n",
    "                Px = no_perms[:,:vs*stride,:,-vs:,:] \n",
    "                shift_Px = no_perms[:,-vs*stride:,:,:vs,:]\n",
    "                padarr[2] = -vs\n",
    "            if hs>0: \n",
    "                Py = Px[:,:,hs*stride:,:,:-hs]\n",
    "                shift_Py = shift_Px[:,:,:-hs*stride,:,hs:]\n",
    "                padarr[0] = hs\n",
    "            elif hs == 0: \n",
    "                Py = Px\n",
    "                shift_Py = shift_Px\n",
    "                padarr[1] = hs\n",
    "            else:\n",
    "                Py = Px[:,:,:hs*stride,:,-hs:] \n",
    "                shift_Py = shift_Px[:,:,-hs*stride:,:,:hs]\n",
    "                padarr[1] = -hs\n",
    "            #Average over the the truncated patch\n",
    "#             t1 = func((Py.unsqueeze(1)-shift_Py.unsqueeze(0)).abs().mean(2).mean(2));\n",
    "            #Sum over the truncated patch\n",
    "            t1 = torch.multiply(Py.unsqueeze(1),shift_Py.unsqueeze(0)).abs().sum(2).sum(2);\n",
    "            t2 = F.pad(t1,padarr)\n",
    "\n",
    "#             t1 = func((shift_Py.unsqueeze(2)-Py.unsqueeze(1)).abs().sum(0).mean(2).mean(2));\n",
    "            \n",
    "            log_psi_mat[...,i,j] = F.pad(t1,padarr)"
   ]
  },
  {
   "cell_type": "code",
   "execution_count": null,
   "id": "running-action",
   "metadata": {},
   "outputs": [],
   "source": [
    "(Py.unsqueeze(1)-shift_Py.unsqueeze(0)).shape"
   ]
  },
  {
   "cell_type": "code",
   "execution_count": null,
   "id": "annual-dietary",
   "metadata": {},
   "outputs": [],
   "source": [
    "i,j = [15,4]\n",
    "plt.subplot(131)\n",
    "# plt.title(f'Depth {output[i,j,0]:.2f}')\n",
    "plt.imshow(ang_sorted_wedges[0,0,:,:,i,j],vmin=0,vmax=1)\n",
    "plt.subplot(132)\n",
    "\n",
    "# plt.title(f'Depth {output[i,j,1]:.2f}')\n",
    "plt.imshow(ang_sorted_wedges[0,1,:,:,i,j],vmin=0,vmax=1)\n",
    "plt.subplot(133)\n",
    "# plt.title(f'Depth {output[i,j,2]:.2f}')\n",
    "plt.imshow(ang_sorted_wedges[0,2,:,:,i,j],vmin=0,vmax=1)\n",
    "\n",
    "i,j = [14,5]\n",
    "plt.figure()\n",
    "plt.subplot(131)\n",
    "# plt.title(f'Depth {output[i,j,0]:.2f}')\n",
    "plt.imshow(ang_sorted_wedges[0,0,:,:,i,j],vmin=0,vmax=1)\n",
    "plt.subplot(132)\n",
    "\n",
    "# plt.title(f'Depth {output[i,j,1]:.2f}')\n",
    "plt.imshow(ang_sorted_wedges[0,1,:,:,i,j],vmin=0,vmax=1)\n",
    "plt.subplot(133)\n",
    "# plt.title(f'Depth {output[i,j,2]:.2f}')\n",
    "plt.imshow(ang_sorted_wedges[0,2,:,:,i,j],vmin=0,vmax=1)\n"
   ]
  },
  {
   "cell_type": "code",
   "execution_count": null,
   "id": "adequate-vault",
   "metadata": {},
   "outputs": [],
   "source": []
  },
  {
   "cell_type": "code",
   "execution_count": null,
   "id": "indian-glasgow",
   "metadata": {},
   "outputs": [],
   "source": [
    "#upper neighboring\n",
    "print(log_psi_mat[0,2,5,5,1,0])\n",
    "print(log_psi_mat[2,0,4,5,1,2])\n",
    "\n",
    "#Right neighboring\n",
    "print(log_psi_mat[0,2,5,5,0,1])\n",
    "print(log_psi_mat[2,0,5,6,2,1])"
   ]
  },
  {
   "cell_type": "code",
   "execution_count": null,
   "id": "assigned-dragon",
   "metadata": {},
   "outputs": [],
   "source": [
    "rule1 = w0_pi.cpu().numpy()& ~w2_zero.cpu().numpy() & (out_of_bounds<1).cpu().numpy()\n",
    "rule2 = w2_zero.cpu().numpy()&~w1_pi.cpu().numpy() & (out_of_bounds<1).cpu().numpy()\n",
    "rule1[0,0]"
   ]
  },
  {
   "cell_type": "code",
   "execution_count": null,
   "id": "loving-sampling",
   "metadata": {},
   "outputs": [],
   "source": [
    "plt.imshow(rule1)"
   ]
  },
  {
   "cell_type": "code",
   "execution_count": null,
   "id": "quiet-premises",
   "metadata": {},
   "outputs": [],
   "source": [
    "idx = 0\n",
    "rules_list = []\n",
    "unary_input = ang_sorted_wedges.squeeze(0)\n",
    "\n",
    "emptyv = np.zeros(unary_input.shape[3]*unary_input.shape[4]*3)\n",
    "\n",
    "for i in range(unary_input.shape[3]):\n",
    "    for j in range(unary_input.shape[4]):\n",
    "        if rule1[i,j]:\n",
    "            #First patch is in front of both\n",
    "            #negative term is in front of  positive term\n",
    "            update = [-1,0,1]\n",
    "            rules_list.append(emptyv.copy())\n",
    "            rules_list[-1][(i*unary_input.shape[4]+j)*3:(i*unary_input.shape[4]+(j+1))*3] = update\n",
    "            update = [-1,1,0]\n",
    "            rules_list.append(emptyv.copy())\n",
    "            rules_list[-1][(i*unary_input.shape[4]+j)*3:(i*unary_input.shape[4]+(j+1))*3] = update\n",
    "        elif rule2[i,j]:\n",
    "            update = [1,-1,0]\n",
    "            rules_list.append(emptyv.copy())\n",
    "            rules_list[-1][(i*unary_input.shape[4]+j)*3:(i*unary_input.shape[4]+(j+1))*3] = update\n",
    "\n",
    "rules_mat = np.asarray(rules_list)"
   ]
  },
  {
   "cell_type": "code",
   "execution_count": null,
   "id": "attached-dryer",
   "metadata": {},
   "outputs": [],
   "source": [
    "#                         ## Upper neighbor?\n",
    "#                         ov = log_psi_mat[neighbor,wedge,i,j,1+n_i,1+n_j]\n",
    "#                         ov_list.append(emptyv.copy())\n",
    "#                         ov_list[-1][3*(i*unary_input.shape[4]+j)+wedge] = np.sqrt(ov)\n",
    "#                         ov_list[-1][3*((i+n_j)*unary_input.shape[4]+j-n_i)+neighbor] = - np.sqrt(ov)\n",
    "#                         ## Lower neighbor?\n",
    "#                         ov = log_psi_mat[neighbor,wedge,i,j,1,2]\n",
    "#                         ov_list.append(emptyv.copy())\n",
    "#                         ov_list[-1][3*(i*unary_input.shape[4]+j)+wedge] = np.sqrt(ov)\n",
    "#                         ov_list[-1][3*((i+1)*unary_input.shape[4]+j)+neighbor] = - np.sqrt(ov)\n",
    "#                         ## Right neighbor?\n",
    "#                         ov = log_psi_mat[neighbor,wedge,i,j,0,1]\n",
    "#                         ov_list.append(emptyv.copy())\n",
    "#                         ov_list[-1][3*(i*unary_input.shape[4]+j)+wedge] = np.sqrt(ov)\n",
    "#                         ov_list[-1][3*(i*unary_input.shape[4]+j-n_i)+neighbor] = - np.sqrt(ov)\n",
    "#                         ## Left neighbor?\n",
    "#                         ov = log_psi_mat[neighbor,wedge,i,j,2,1]\n",
    "#                         ov_list.append(emptyv.copy())\n",
    "#                         ov_list[-1][3*(i*unary_input.shape[4]+j)+wedge] = np.sqrt(ov)\n",
    "#                         ov_list[-1][3*(i*unary_input.shape[4]+j-1)+neighbor] = - np.sqrt(ov)\n"
   ]
  },
  {
   "cell_type": "code",
   "execution_count": null,
   "id": "innocent-picture",
   "metadata": {},
   "outputs": [],
   "source": [
    "emptyv = np.zeros(unary_input.shape[3]*unary_input.shape[4]*3)\n",
    "# ov_list = np.zeros(unary_input.shape[3]*unary_input.shape[4]*3, unary_input.shape[3]*unary_input.shape[4]*3)\n",
    "ov_list = []\n",
    "Ns = 3\n",
    "n_list = np.arange(-Ns,Ns+1)\n",
    "for neighbor in range(3):\n",
    "    for wedge in range(3):\n",
    "        for n_i in n_list:\n",
    "            for n_j in n_list:\n",
    "                for i in range(max(0, -n_j),\n",
    "                               min(unary_input.shape[4]+n_j,unary_input.shape[4])):\n",
    "                    for j in range(max(0,-n_i),\n",
    "                                    min(unary_input.shape[3]+n_i,unary_input.shape[3])):\n",
    "                        ## Upper neighbor?\n",
    "                        ov = log_psi_mat[neighbor,wedge,i,j,Ns+n_i,Ns+n_j]\n",
    "                        ov_list.append(emptyv.copy())\n",
    "                        ov_list[-1][3*(i*unary_input.shape[4]+j)+wedge] = np.sqrt(ov)\n",
    "                        ov_list[-1][3*((i-n_j)*unary_input.shape[4]+j-n_i)+neighbor] = - np.sqrt(ov)\n",
    "t1 = np.asarray(ov_list)"
   ]
  },
  {
   "cell_type": "code",
   "execution_count": null,
   "id": "catholic-serial",
   "metadata": {},
   "outputs": [],
   "source": [
    "log_psi_mat.shape"
   ]
  },
  {
   "cell_type": "code",
   "execution_count": null,
   "id": "exciting-compact",
   "metadata": {},
   "outputs": [],
   "source": [
    "t1.shape"
   ]
  },
  {
   "cell_type": "code",
   "execution_count": null,
   "id": "established-patient",
   "metadata": {},
   "outputs": [],
   "source": [
    "neighbor = 0\n",
    "wedge = 0\n",
    "\n",
    "log_psi_mat[neighbor,wedge,i,j,...]"
   ]
  },
  {
   "cell_type": "markdown",
   "id": "static-translator",
   "metadata": {},
   "source": [
    "## An attempt to use torch autograd"
   ]
  },
  {
   "cell_type": "code",
   "execution_count": null,
   "id": "likely-mistress",
   "metadata": {},
   "outputs": [],
   "source": [
    "import torch\n",
    "from torch.nn import functional as F\n",
    "import torch.nn as nn"
   ]
  },
  {
   "cell_type": "code",
   "execution_count": null,
   "id": "elementary-stomach",
   "metadata": {},
   "outputs": [],
   "source": [
    "selector = torch.ones(M.shape[0])/2\n",
    "# torch.multiply(torch.bernoulli(selector),M.T)\n",
    "torch.count_nonzero(M.T)\n",
    "torch.count_nonzero(torch.multiply(torch.bernoulli(selector),M.T))"
   ]
  },
  {
   "cell_type": "code",
   "execution_count": null,
   "id": "sufficient-recovery",
   "metadata": {},
   "outputs": [],
   "source": [
    "#Unary term\n",
    "A = torch.tensor(rules_mat,dtype =torch.float32)\n",
    "\n",
    "#Overlap term\n",
    "M= torch.tensor(t1,dtype =torch.float32)\n",
    "\n",
    "#Random Selection term\n",
    "TRUNC = True\n",
    "trunc_frac = 1/5\n",
    "selector = torch.ones(M.shape[0])*trunc_frac\n",
    "\n",
    "\n",
    "#Possible exponentiation?\n",
    "M6 = torch.pow(M.T@M,3)\n",
    "b = 2\n",
    "x = torch.rand((t1.shape[1],1),dtype =torch.float32,requires_grad = True)\n",
    "\n",
    "pairwise_penalty = 1e-6\n",
    "def forward():\n",
    "    u_term = torch.norm(F.relu(-A@x +b),p=1)\n",
    "    if TRUNC:\n",
    "        Mstar = torch.multiply(torch.bernoulli(selector),M.T).T\n",
    "    else:\n",
    "        Mstar = M\n",
    "    pair_term = x.T@Mstar.T@Mstar@x\n",
    "    return u_term+pair_term*pairwise_penalty\n",
    "\n",
    "def loss(err):\n",
    "    return err.mean()\n",
    "\n",
    "# class DepthRegressor(nn.module):\n",
    "#     def __init__(self):\n",
    "#         super(DepthRegressor,self).__init__()\n",
    "#     def forward\n"
   ]
  },
  {
   "cell_type": "code",
   "execution_count": null,
   "id": "surgical-pleasure",
   "metadata": {},
   "outputs": [],
   "source": [
    "lr = .1\n",
    "niter = 200\n",
    "\n",
    "optimizer = torch.optim.Adam([x],lr = lr)\n",
    "for epoch in range(niter):\n",
    "    err = forward()\n",
    "    l = loss(err)\n",
    "    l.backward()\n",
    "    optimizer.step()\n",
    "    optimizer.zero_grad()\n",
    "    if epoch % 10 == 0:\n",
    "        print(f'epoch {epoch+1}, loss = {l.item():.8f}')"
   ]
  },
  {
   "cell_type": "code",
   "execution_count": null,
   "id": "incredible-composition",
   "metadata": {},
   "outputs": [],
   "source": [
    "output = x.detach().numpy()\n",
    "output = output.reshape([unary_input.shape[3],unary_input.shape[4],3])\n",
    "ang_sorted_wedges.shape\n",
    "permute_sort_wedges = ang_sorted_wedges[0,...].movedim(0,-1)\n",
    "permute_sort_wedges.shape"
   ]
  },
  {
   "cell_type": "code",
   "execution_count": null,
   "id": "julian-bloom",
   "metadata": {},
   "outputs": [],
   "source": []
  },
  {
   "cell_type": "code",
   "execution_count": null,
   "id": "behind-elements",
   "metadata": {},
   "outputs": [],
   "source": [
    "output.shape"
   ]
  },
  {
   "cell_type": "code",
   "execution_count": null,
   "id": "structured-authentication",
   "metadata": {},
   "outputs": [],
   "source": [
    "ang_sorted_wedges.shape\n",
    "permute_sort_wedges = ang_sorted_wedges[0,...].movedim(0,-1)\n",
    "permute_sort_wedges.shape"
   ]
  },
  {
   "cell_type": "code",
   "execution_count": null,
   "id": "selected-contents",
   "metadata": {},
   "outputs": [],
   "source": [
    "#Get depth measurements\n",
    "depths = torch.multiply(permute_sort_wedges,torch.tensor(output))\n",
    "depths = depths.sum(-1)"
   ]
  },
  {
   "cell_type": "code",
   "execution_count": null,
   "id": "committed-fields",
   "metadata": {},
   "outputs": [],
   "source": [
    "depth_map = reconstruct_img(depths,H,W,opts.stride,opts.R)\n",
    "\n",
    "plt.imshow(depth_map)\n",
    "plt.colorbar()\n",
    "plt.title('Depth mapping for combined potential')\n",
    "plt.axis('off')"
   ]
  },
  {
   "cell_type": "code",
   "execution_count": null,
   "id": "green-appraisal",
   "metadata": {},
   "outputs": [],
   "source": [
    "wedge_out_unary_1 = reconstruct_img(ang_sorted_wedges[0,0,...],H,W,opts.stride,opts.R)\n",
    "wedge_out_unary_2 = reconstruct_img(ang_sorted_wedges[0,1,...],H,W,opts.stride,opts.R)\n",
    "wedge_out_unary_3 = reconstruct_img(ang_sorted_wedges[0,2,...],H,W,opts.stride,opts.R)\n",
    "plt.figure(figsize=[10,30])\n",
    "plt.subplot(131)\n",
    "plt.imshow(wedge_out_unary_1,vmin=0,vmax=1)\n",
    "# plt.colorbar()\n",
    "plt.axis('off')\n",
    "plt.title('Layer 1')\n",
    "plt.subplot(132)\n",
    "plt.imshow(wedge_out_unary_2,vmin=0,vmax=1)\n",
    "# plt.colorbar()\n",
    "plt.axis('off')\n",
    "plt.title('Layer 2')\n",
    "plt.subplot(133)\n",
    "plt.imshow(wedge_out_unary_3,vmin=0,vmax=1)\n",
    "# plt.colorbar()\n",
    "plt.axis('off')\n",
    "plt.title('Layer 3')\n",
    "plt.suptitle('Pixelwise layer-certainty estimates with unary potentials')\n",
    "plt.subplots_adjust(top=1.73);"
   ]
  },
  {
   "cell_type": "code",
   "execution_count": null,
   "id": "anonymous-science",
   "metadata": {},
   "outputs": [],
   "source": []
  },
  {
   "cell_type": "code",
   "execution_count": null,
   "id": "fabulous-bacon",
   "metadata": {},
   "outputs": [],
   "source": [
    "\n",
    "i,j = [15,4]\n",
    "plt.subplot(131)\n",
    "plt.title(f'Depth {output[i,j,0]:.2f}')\n",
    "plt.imshow(ang_sorted_wedges[0,0,:,:,i,j] * output[i,j,0],vmin=0,vmax=1)\n",
    "plt.subplot(132)\n",
    "\n",
    "plt.title(f'Depth {output[i,j,1]:.2f}')\n",
    "plt.imshow(ang_sorted_wedges[0,1,:,:,i,j]* output[i,j,1],vmin=0,vmax=1)\n",
    "plt.subplot(133)\n",
    "plt.title(f'Depth {output[i,j,2]:.2f}')\n",
    "plt.imshow(ang_sorted_wedges[0,2,:,:,i,j]* output[i,j,2],vmin=0,vmax=1)\n",
    "\n",
    "plt.figure()\n",
    "i,j = [14,5]\n",
    "plt.subplot(131)\n",
    "plt.title(f'Depth {output[i,j,0]:.2f}')\n",
    "plt.imshow(ang_sorted_wedges[0,0,:,:,i,j] * output[i,j,0],vmin=0,vmax=1)\n",
    "plt.subplot(132)\n",
    "\n",
    "plt.title(f'Depth {output[i,j,1]:.2f}')\n",
    "plt.imshow(ang_sorted_wedges[0,1,:,:,i,j]* output[i,j,1],vmin=0,vmax=1)\n",
    "plt.subplot(133)\n",
    "plt.title(f'Depth {output[i,j,2]:.2f}')\n",
    "plt.imshow(ang_sorted_wedges[0,2,:,:,i,j]* output[i,j,2],vmin=0,vmax=1)"
   ]
  },
  {
   "cell_type": "code",
   "execution_count": null,
   "id": "knowing-habitat",
   "metadata": {
    "scrolled": true
   },
   "outputs": [],
   "source": [
    "log_psi_mat.shape"
   ]
  },
  {
   "cell_type": "code",
   "execution_count": null,
   "id": "copyrighted-poker",
   "metadata": {},
   "outputs": [],
   "source": [
    "plt.imshow(log_psi_mat[:,:,15,4,0,0])\n",
    "plt.colorbar()"
   ]
  }
 ],
 "metadata": {
  "kernelspec": {
   "display_name": "Python 3 (ipykernel)",
   "language": "python",
   "name": "python3"
  },
  "language_info": {
   "codemirror_mode": {
    "name": "ipython",
    "version": 3
   },
   "file_extension": ".py",
   "mimetype": "text/x-python",
   "name": "python",
   "nbconvert_exporter": "python",
   "pygments_lexer": "ipython3",
   "version": "3.9.5"
  }
 },
 "nbformat": 4,
 "nbformat_minor": 5
}